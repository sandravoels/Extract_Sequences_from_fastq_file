{
    "cells": [
        {
            "cell_type": "code",
            "execution_count": 5,
            "source": [
                "#first version which afterwards was later on improved to an more efficient python script (deplete_p_loop.py (version2) --> deplete_p_loop_faster.py (version3)))\r\n",
                "import sys\r\n",
                "!{sys.executable} -m pip install regex\r\n",
                "\r\n",
                "import regex\r\n",
                "import pandas as pd\r\n",
                "import os"
            ],
            "outputs": [
                {
                    "output_type": "stream",
                    "name": "stderr",
                    "text": [
                        "WARNING: You are using pip version 21.1.1; however, version 21.2.4 is available.\n",
                        "You should consider upgrading via the 'C:\\Users\\JonathanG03\\AppData\\Local\\Programs\\Python\\Python39\\python.exe -m pip install --upgrade pip' command.\n"
                    ]
                },
                {
                    "output_type": "stream",
                    "name": "stdout",
                    "text": [
                        "Collecting regex\n",
                        "  Using cached regex-2021.8.3-cp39-cp39-win_amd64.whl (270 kB)\n",
                        "Installing collected packages: regex\n",
                        "Successfully installed regex-2021.8.3\n"
                    ]
                }
            ],
            "metadata": {}
        },
        {
            "cell_type": "code",
            "execution_count": 6,
            "source": [
                "DIR = r'D:\\Dropbox\\MotifAi_Exercises\\Exp3_HCV_Naive+Exp7_8_HIV\\reads_filtration'"
            ],
            "outputs": [],
            "metadata": {}
        },
        {
            "cell_type": "code",
            "execution_count": 21,
            "source": [
                "list_sequences = []\r\n",
                "rpm = []\r\n",
                "\r\n",
                "with open(r\"C:\\Users\\JonathanG03\\Dropbox\\MotifAi_Exercises\\Exp3_HCV_Naive+Exp7_8_HIV\\reads_filtration_depleted\\HIV_unique_reads\\EC_HIV_060_1\\EC_HIV_060_1_unique_rpm.faa\", 'r') as f:  \r\n",
                "\r\n",
                "        n=0\r\n",
                "        m=1\r\n",
                "\r\n",
                "        for i, line in enumerate(f):\r\n",
                "            if i == n:\r\n",
                "                rpm.append(line)\r\n",
                "                n+=2             \r\n",
                "            if i == m:\r\n",
                "                list_sequences.append(line[:-1])\r\n",
                "                m+=2\r\n",
                "            #if i>10002:\r\n",
                "                #break\r\n",
                "            \r\n",
                "print(len(list_sequences))\r\n",
                "print(len(rpm))\r\n",
                "\r\n",
                "df_read = pd.DataFrame(\r\n",
                "    {'sequence_read': list_sequences,\r\n",
                "    'rpm': rpm\r\n",
                "    })\r\n",
                "df_read.head(20)"
            ],
            "outputs": [
                {
                    "output_type": "stream",
                    "name": "stdout",
                    "text": [
                        "550\n",
                        "550\n"
                    ]
                },
                {
                    "output_type": "execute_result",
                    "data": {
                        "text/plain": [
                            "   sequence_read                                                rpm\n",
                            "0     PAHHCQQLFL    >seq_1_lib_10_len_10_counts_534051.4763800481\\n\n",
                            "1     FPTYNFSRVR   >seq_2_lib_10_len_10_counts_379356.22591701616\\n\n",
                            "2     QLPRFQTMVS    >seq_3_lib_10_len_10_counts_57341.45147212228\\n\n",
                            "3   WTLTTSVQSTVA   >seq_4_lib_12_len_12_counts_1766.9725161262852\\n\n",
                            "4   CLKVSSYGPQLC  >seq_5_lib_C10C_len_12_counts_489.6429863964405\\n\n",
                            "5     CSEQLILFEC   >seq_6_lib_C8C_len_10_counts_468.3541609009431\\n\n",
                            "6     PAHHCQQLFR   >seq_7_lib_10_len_10_counts_457.70974815319437\\n\n",
                            "7     PAHNCQQLFL   >seq_8_lib_10_len_10_counts_457.70974815319437\\n\n",
                            "8     PANHCQQLFL   >seq_9_lib_10_len_10_counts_457.70974815319437\\n\n",
                            "9     PAHHCQQLLL   >seq_10_lib_10_len_10_counts_447.0653354054457\\n\n",
                            "10    PAHHCQQLFM  >seq_11_lib_10_len_10_counts_425.77650990994823\\n\n",
                            "11    PAHHWQQLFL  >seq_12_lib_10_len_10_counts_415.13209716219956\\n\n",
                            "12  VRQMAIYPIPAN   >seq_13_lib_12_len_12_counts_404.4876844144508\\n\n",
                            "13    PAHHCQELFL   >seq_14_lib_10_len_10_counts_383.1988589189534\\n\n",
                            "14    PAHHCRQLFL   >seq_15_lib_10_len_10_counts_383.1988589189534\\n\n",
                            "15    PAHHCQKLFL  >seq_16_lib_10_len_10_counts_351.26562067570734\\n\n",
                            "16    PAHHCQQLFQ   >seq_17_lib_10_len_10_counts_340.6212079279586\\n\n",
                            "17    FPAYNFSRVR   >seq_18_lib_10_len_10_counts_329.9767951802099\\n\n",
                            "18    FPTYNCSRVR   >seq_19_lib_10_len_10_counts_329.9767951802099\\n\n",
                            "19    FPSYNFSRVR   >seq_20_lib_10_len_10_counts_319.3323824324612\\n"
                        ],
                        "text/html": [
                            "<div>\n",
                            "<style scoped>\n",
                            "    .dataframe tbody tr th:only-of-type {\n",
                            "        vertical-align: middle;\n",
                            "    }\n",
                            "\n",
                            "    .dataframe tbody tr th {\n",
                            "        vertical-align: top;\n",
                            "    }\n",
                            "\n",
                            "    .dataframe thead th {\n",
                            "        text-align: right;\n",
                            "    }\n",
                            "</style>\n",
                            "<table border=\"1\" class=\"dataframe\">\n",
                            "  <thead>\n",
                            "    <tr style=\"text-align: right;\">\n",
                            "      <th></th>\n",
                            "      <th>sequence_read</th>\n",
                            "      <th>rpm</th>\n",
                            "    </tr>\n",
                            "  </thead>\n",
                            "  <tbody>\n",
                            "    <tr>\n",
                            "      <th>0</th>\n",
                            "      <td>PAHHCQQLFL</td>\n",
                            "      <td>&gt;seq_1_lib_10_len_10_counts_534051.4763800481\\n</td>\n",
                            "    </tr>\n",
                            "    <tr>\n",
                            "      <th>1</th>\n",
                            "      <td>FPTYNFSRVR</td>\n",
                            "      <td>&gt;seq_2_lib_10_len_10_counts_379356.22591701616\\n</td>\n",
                            "    </tr>\n",
                            "    <tr>\n",
                            "      <th>2</th>\n",
                            "      <td>QLPRFQTMVS</td>\n",
                            "      <td>&gt;seq_3_lib_10_len_10_counts_57341.45147212228\\n</td>\n",
                            "    </tr>\n",
                            "    <tr>\n",
                            "      <th>3</th>\n",
                            "      <td>WTLTTSVQSTVA</td>\n",
                            "      <td>&gt;seq_4_lib_12_len_12_counts_1766.9725161262852\\n</td>\n",
                            "    </tr>\n",
                            "    <tr>\n",
                            "      <th>4</th>\n",
                            "      <td>CLKVSSYGPQLC</td>\n",
                            "      <td>&gt;seq_5_lib_C10C_len_12_counts_489.6429863964405\\n</td>\n",
                            "    </tr>\n",
                            "    <tr>\n",
                            "      <th>5</th>\n",
                            "      <td>CSEQLILFEC</td>\n",
                            "      <td>&gt;seq_6_lib_C8C_len_10_counts_468.3541609009431\\n</td>\n",
                            "    </tr>\n",
                            "    <tr>\n",
                            "      <th>6</th>\n",
                            "      <td>PAHHCQQLFR</td>\n",
                            "      <td>&gt;seq_7_lib_10_len_10_counts_457.70974815319437\\n</td>\n",
                            "    </tr>\n",
                            "    <tr>\n",
                            "      <th>7</th>\n",
                            "      <td>PAHNCQQLFL</td>\n",
                            "      <td>&gt;seq_8_lib_10_len_10_counts_457.70974815319437\\n</td>\n",
                            "    </tr>\n",
                            "    <tr>\n",
                            "      <th>8</th>\n",
                            "      <td>PANHCQQLFL</td>\n",
                            "      <td>&gt;seq_9_lib_10_len_10_counts_457.70974815319437\\n</td>\n",
                            "    </tr>\n",
                            "    <tr>\n",
                            "      <th>9</th>\n",
                            "      <td>PAHHCQQLLL</td>\n",
                            "      <td>&gt;seq_10_lib_10_len_10_counts_447.0653354054457\\n</td>\n",
                            "    </tr>\n",
                            "    <tr>\n",
                            "      <th>10</th>\n",
                            "      <td>PAHHCQQLFM</td>\n",
                            "      <td>&gt;seq_11_lib_10_len_10_counts_425.77650990994823\\n</td>\n",
                            "    </tr>\n",
                            "    <tr>\n",
                            "      <th>11</th>\n",
                            "      <td>PAHHWQQLFL</td>\n",
                            "      <td>&gt;seq_12_lib_10_len_10_counts_415.13209716219956\\n</td>\n",
                            "    </tr>\n",
                            "    <tr>\n",
                            "      <th>12</th>\n",
                            "      <td>VRQMAIYPIPAN</td>\n",
                            "      <td>&gt;seq_13_lib_12_len_12_counts_404.4876844144508\\n</td>\n",
                            "    </tr>\n",
                            "    <tr>\n",
                            "      <th>13</th>\n",
                            "      <td>PAHHCQELFL</td>\n",
                            "      <td>&gt;seq_14_lib_10_len_10_counts_383.1988589189534\\n</td>\n",
                            "    </tr>\n",
                            "    <tr>\n",
                            "      <th>14</th>\n",
                            "      <td>PAHHCRQLFL</td>\n",
                            "      <td>&gt;seq_15_lib_10_len_10_counts_383.1988589189534\\n</td>\n",
                            "    </tr>\n",
                            "    <tr>\n",
                            "      <th>15</th>\n",
                            "      <td>PAHHCQKLFL</td>\n",
                            "      <td>&gt;seq_16_lib_10_len_10_counts_351.26562067570734\\n</td>\n",
                            "    </tr>\n",
                            "    <tr>\n",
                            "      <th>16</th>\n",
                            "      <td>PAHHCQQLFQ</td>\n",
                            "      <td>&gt;seq_17_lib_10_len_10_counts_340.6212079279586\\n</td>\n",
                            "    </tr>\n",
                            "    <tr>\n",
                            "      <th>17</th>\n",
                            "      <td>FPAYNFSRVR</td>\n",
                            "      <td>&gt;seq_18_lib_10_len_10_counts_329.9767951802099\\n</td>\n",
                            "    </tr>\n",
                            "    <tr>\n",
                            "      <th>18</th>\n",
                            "      <td>FPTYNCSRVR</td>\n",
                            "      <td>&gt;seq_19_lib_10_len_10_counts_329.9767951802099\\n</td>\n",
                            "    </tr>\n",
                            "    <tr>\n",
                            "      <th>19</th>\n",
                            "      <td>FPSYNFSRVR</td>\n",
                            "      <td>&gt;seq_20_lib_10_len_10_counts_319.3323824324612\\n</td>\n",
                            "    </tr>\n",
                            "  </tbody>\n",
                            "</table>\n",
                            "</div>"
                        ]
                    },
                    "metadata": {},
                    "execution_count": 21
                }
            ],
            "metadata": {}
        },
        {
            "cell_type": "code",
            "execution_count": 22,
            "source": [
                "def find_rpm(rpm_line):\r\n",
                "    matches = regex.search('(counts_)',rpm_line)\r\n",
                "    index_end = matches.end()\r\n",
                "    return index_end\r\n",
                "\r\n",
                "df_read['rpm_end']=df_read['rpm'].apply(find_rpm)\r\n",
                "\r\n",
                "\r\n"
            ],
            "outputs": [],
            "metadata": {}
        },
        {
            "cell_type": "code",
            "execution_count": 23,
            "source": [
                "df_read['rpm'] = df_read.apply(lambda x: x['rpm'][x['rpm_end']:-1], 1)\r\n",
                "df_read\r\n"
            ],
            "outputs": [
                {
                    "output_type": "execute_result",
                    "data": {
                        "text/plain": [
                            "    sequence_read                 rpm  rpm_end\n",
                            "0      PAHHCQQLFL   534051.4763800481       28\n",
                            "1      FPTYNFSRVR  379356.22591701616       28\n",
                            "2      QLPRFQTMVS   57341.45147212228       28\n",
                            "3    WTLTTSVQSTVA  1766.9725161262852       28\n",
                            "4    CLKVSSYGPQLC   489.6429863964405       30\n",
                            "..            ...                 ...      ...\n",
                            "545    YPTYNFSMVR  10.644412747748706       30\n",
                            "546    YPTYNFSRDR  10.644412747748706       30\n",
                            "547    YPTYNFTRVR  10.644412747748706       30\n",
                            "548    YPTYNISGVR  10.644412747748706       30\n",
                            "549    YQPYPGDFLN  10.644412747748706       30\n",
                            "\n",
                            "[550 rows x 3 columns]"
                        ],
                        "text/html": [
                            "<div>\n",
                            "<style scoped>\n",
                            "    .dataframe tbody tr th:only-of-type {\n",
                            "        vertical-align: middle;\n",
                            "    }\n",
                            "\n",
                            "    .dataframe tbody tr th {\n",
                            "        vertical-align: top;\n",
                            "    }\n",
                            "\n",
                            "    .dataframe thead th {\n",
                            "        text-align: right;\n",
                            "    }\n",
                            "</style>\n",
                            "<table border=\"1\" class=\"dataframe\">\n",
                            "  <thead>\n",
                            "    <tr style=\"text-align: right;\">\n",
                            "      <th></th>\n",
                            "      <th>sequence_read</th>\n",
                            "      <th>rpm</th>\n",
                            "      <th>rpm_end</th>\n",
                            "    </tr>\n",
                            "  </thead>\n",
                            "  <tbody>\n",
                            "    <tr>\n",
                            "      <th>0</th>\n",
                            "      <td>PAHHCQQLFL</td>\n",
                            "      <td>534051.4763800481</td>\n",
                            "      <td>28</td>\n",
                            "    </tr>\n",
                            "    <tr>\n",
                            "      <th>1</th>\n",
                            "      <td>FPTYNFSRVR</td>\n",
                            "      <td>379356.22591701616</td>\n",
                            "      <td>28</td>\n",
                            "    </tr>\n",
                            "    <tr>\n",
                            "      <th>2</th>\n",
                            "      <td>QLPRFQTMVS</td>\n",
                            "      <td>57341.45147212228</td>\n",
                            "      <td>28</td>\n",
                            "    </tr>\n",
                            "    <tr>\n",
                            "      <th>3</th>\n",
                            "      <td>WTLTTSVQSTVA</td>\n",
                            "      <td>1766.9725161262852</td>\n",
                            "      <td>28</td>\n",
                            "    </tr>\n",
                            "    <tr>\n",
                            "      <th>4</th>\n",
                            "      <td>CLKVSSYGPQLC</td>\n",
                            "      <td>489.6429863964405</td>\n",
                            "      <td>30</td>\n",
                            "    </tr>\n",
                            "    <tr>\n",
                            "      <th>...</th>\n",
                            "      <td>...</td>\n",
                            "      <td>...</td>\n",
                            "      <td>...</td>\n",
                            "    </tr>\n",
                            "    <tr>\n",
                            "      <th>545</th>\n",
                            "      <td>YPTYNFSMVR</td>\n",
                            "      <td>10.644412747748706</td>\n",
                            "      <td>30</td>\n",
                            "    </tr>\n",
                            "    <tr>\n",
                            "      <th>546</th>\n",
                            "      <td>YPTYNFSRDR</td>\n",
                            "      <td>10.644412747748706</td>\n",
                            "      <td>30</td>\n",
                            "    </tr>\n",
                            "    <tr>\n",
                            "      <th>547</th>\n",
                            "      <td>YPTYNFTRVR</td>\n",
                            "      <td>10.644412747748706</td>\n",
                            "      <td>30</td>\n",
                            "    </tr>\n",
                            "    <tr>\n",
                            "      <th>548</th>\n",
                            "      <td>YPTYNISGVR</td>\n",
                            "      <td>10.644412747748706</td>\n",
                            "      <td>30</td>\n",
                            "    </tr>\n",
                            "    <tr>\n",
                            "      <th>549</th>\n",
                            "      <td>YQPYPGDFLN</td>\n",
                            "      <td>10.644412747748706</td>\n",
                            "      <td>30</td>\n",
                            "    </tr>\n",
                            "  </tbody>\n",
                            "</table>\n",
                            "<p>550 rows × 3 columns</p>\n",
                            "</div>"
                        ]
                    },
                    "metadata": {},
                    "execution_count": 23
                }
            ],
            "metadata": {}
        },
        {
            "cell_type": "code",
            "execution_count": 24,
            "source": [
                "df_read['rpm']=df_read['rpm'].astype(str).astype(float)"
            ],
            "outputs": [],
            "metadata": {}
        },
        {
            "cell_type": "code",
            "execution_count": 25,
            "source": [
                "print (df_read['rpm'].sum())\r\n",
                "assert 999999<df_read['rpm'].sum()<1000001, \"sum of RPM is not 1000000\""
            ],
            "outputs": [
                {
                    "output_type": "stream",
                    "name": "stdout",
                    "text": [
                        "1000000.0\n"
                    ]
                }
            ],
            "metadata": {}
        },
        {
            "cell_type": "code",
            "execution_count": 26,
            "source": [
                "def find_pentameric_loop(sequence):\r\n",
                "    matches = regex.search('(C.G[RK][LM].C)', sequence)\r\n",
                "    if matches !=None:\r\n",
                "        return ('pentameric loop')\r\n",
                "\r\n",
                "df_read['pentameric_loop'] = df_read['sequence_read'].apply(find_pentameric_loop)\r\n",
                "df_read"
            ],
            "outputs": [
                {
                    "output_type": "execute_result",
                    "data": {
                        "text/plain": [
                            "    sequence_read            rpm  rpm_end pentameric_loop\n",
                            "0      PAHHCQQLFL  534051.476380       28            None\n",
                            "1      FPTYNFSRVR  379356.225917       28            None\n",
                            "2      QLPRFQTMVS   57341.451472       28            None\n",
                            "3    WTLTTSVQSTVA    1766.972516       28            None\n",
                            "4    CLKVSSYGPQLC     489.642986       30            None\n",
                            "..            ...            ...      ...             ...\n",
                            "545    YPTYNFSMVR      10.644413       30            None\n",
                            "546    YPTYNFSRDR      10.644413       30            None\n",
                            "547    YPTYNFTRVR      10.644413       30            None\n",
                            "548    YPTYNISGVR      10.644413       30            None\n",
                            "549    YQPYPGDFLN      10.644413       30            None\n",
                            "\n",
                            "[550 rows x 4 columns]"
                        ],
                        "text/html": [
                            "<div>\n",
                            "<style scoped>\n",
                            "    .dataframe tbody tr th:only-of-type {\n",
                            "        vertical-align: middle;\n",
                            "    }\n",
                            "\n",
                            "    .dataframe tbody tr th {\n",
                            "        vertical-align: top;\n",
                            "    }\n",
                            "\n",
                            "    .dataframe thead th {\n",
                            "        text-align: right;\n",
                            "    }\n",
                            "</style>\n",
                            "<table border=\"1\" class=\"dataframe\">\n",
                            "  <thead>\n",
                            "    <tr style=\"text-align: right;\">\n",
                            "      <th></th>\n",
                            "      <th>sequence_read</th>\n",
                            "      <th>rpm</th>\n",
                            "      <th>rpm_end</th>\n",
                            "      <th>pentameric_loop</th>\n",
                            "    </tr>\n",
                            "  </thead>\n",
                            "  <tbody>\n",
                            "    <tr>\n",
                            "      <th>0</th>\n",
                            "      <td>PAHHCQQLFL</td>\n",
                            "      <td>534051.476380</td>\n",
                            "      <td>28</td>\n",
                            "      <td>None</td>\n",
                            "    </tr>\n",
                            "    <tr>\n",
                            "      <th>1</th>\n",
                            "      <td>FPTYNFSRVR</td>\n",
                            "      <td>379356.225917</td>\n",
                            "      <td>28</td>\n",
                            "      <td>None</td>\n",
                            "    </tr>\n",
                            "    <tr>\n",
                            "      <th>2</th>\n",
                            "      <td>QLPRFQTMVS</td>\n",
                            "      <td>57341.451472</td>\n",
                            "      <td>28</td>\n",
                            "      <td>None</td>\n",
                            "    </tr>\n",
                            "    <tr>\n",
                            "      <th>3</th>\n",
                            "      <td>WTLTTSVQSTVA</td>\n",
                            "      <td>1766.972516</td>\n",
                            "      <td>28</td>\n",
                            "      <td>None</td>\n",
                            "    </tr>\n",
                            "    <tr>\n",
                            "      <th>4</th>\n",
                            "      <td>CLKVSSYGPQLC</td>\n",
                            "      <td>489.642986</td>\n",
                            "      <td>30</td>\n",
                            "      <td>None</td>\n",
                            "    </tr>\n",
                            "    <tr>\n",
                            "      <th>...</th>\n",
                            "      <td>...</td>\n",
                            "      <td>...</td>\n",
                            "      <td>...</td>\n",
                            "      <td>...</td>\n",
                            "    </tr>\n",
                            "    <tr>\n",
                            "      <th>545</th>\n",
                            "      <td>YPTYNFSMVR</td>\n",
                            "      <td>10.644413</td>\n",
                            "      <td>30</td>\n",
                            "      <td>None</td>\n",
                            "    </tr>\n",
                            "    <tr>\n",
                            "      <th>546</th>\n",
                            "      <td>YPTYNFSRDR</td>\n",
                            "      <td>10.644413</td>\n",
                            "      <td>30</td>\n",
                            "      <td>None</td>\n",
                            "    </tr>\n",
                            "    <tr>\n",
                            "      <th>547</th>\n",
                            "      <td>YPTYNFTRVR</td>\n",
                            "      <td>10.644413</td>\n",
                            "      <td>30</td>\n",
                            "      <td>None</td>\n",
                            "    </tr>\n",
                            "    <tr>\n",
                            "      <th>548</th>\n",
                            "      <td>YPTYNISGVR</td>\n",
                            "      <td>10.644413</td>\n",
                            "      <td>30</td>\n",
                            "      <td>None</td>\n",
                            "    </tr>\n",
                            "    <tr>\n",
                            "      <th>549</th>\n",
                            "      <td>YQPYPGDFLN</td>\n",
                            "      <td>10.644413</td>\n",
                            "      <td>30</td>\n",
                            "      <td>None</td>\n",
                            "    </tr>\n",
                            "  </tbody>\n",
                            "</table>\n",
                            "<p>550 rows × 4 columns</p>\n",
                            "</div>"
                        ]
                    },
                    "metadata": {},
                    "execution_count": 26
                }
            ],
            "metadata": {}
        },
        {
            "cell_type": "code",
            "execution_count": 27,
            "source": [
                "df_read['pentameric_loop'].value_counts()"
            ],
            "outputs": [
                {
                    "output_type": "execute_result",
                    "data": {
                        "text/plain": [
                            "pentameric loop    11\n",
                            "Name: pentameric_loop, dtype: int64"
                        ]
                    },
                    "metadata": {},
                    "execution_count": 27
                }
            ],
            "metadata": {}
        },
        {
            "cell_type": "code",
            "execution_count": 28,
            "source": [
                "groups=df_read.groupby('pentameric_loop')\r\n",
                "print(groups)"
            ],
            "outputs": [
                {
                    "output_type": "stream",
                    "name": "stdout",
                    "text": [
                        "<pandas.core.groupby.generic.DataFrameGroupBy object at 0x00000297F31817F0>\n"
                    ]
                }
            ],
            "metadata": {}
        },
        {
            "cell_type": "code",
            "execution_count": 29,
            "source": [
                "df_rpm_pentameric_loop=df_read.groupby('pentameric_loop')['rpm'].apply(sum)\r\n",
                "df_rpm_pentameric_loop"
            ],
            "outputs": [
                {
                    "output_type": "execute_result",
                    "data": {
                        "text/plain": [
                            "pentameric_loop\n",
                            "pentameric loop    180.955017\n",
                            "Name: rpm, dtype: float64"
                        ]
                    },
                    "metadata": {},
                    "execution_count": 29
                }
            ],
            "metadata": {}
        },
        {
            "cell_type": "code",
            "execution_count": 30,
            "source": [
                "df_rpm_pentameric_loop[0]"
            ],
            "outputs": [
                {
                    "output_type": "execute_result",
                    "data": {
                        "text/plain": [
                            "180.955016711728"
                        ]
                    },
                    "metadata": {},
                    "execution_count": 30
                }
            ],
            "metadata": {}
        },
        {
            "cell_type": "code",
            "execution_count": 31,
            "source": [
                "for group in groups:\r\n",
                "     for item in group:\r\n",
                "         if type(item) !=str:\r\n",
                "             df_new=item\r\n",
                "\r\n",
                "df_new\r\n",
                "list_of_sequences_for_depletion=df_new['sequence_read'].tolist()\r\n",
                "print(list_of_sequences_for_depletion)"
            ],
            "outputs": [
                {
                    "output_type": "stream",
                    "name": "stdout",
                    "text": [
                        "['CLGKLGC', 'CGGKLHC', 'CLGRMVC', 'CCVGKLFCSDSSYC', 'CEGRLRCKPHVHDC', 'CHGKLAC', 'CIGRMVC', 'CLGRLTC', 'CSGRLRC', 'CTGRLTCF', 'CVGKMLCNPS']\n"
                    ]
                }
            ],
            "metadata": {}
        },
        {
            "cell_type": "code",
            "execution_count": 33,
            "source": [
                "from Bio import SeqIO\r\n",
                "fasta_sequences = SeqIO.parse(r\"C:\\Users\\JonathanG03\\Dropbox\\MotifAi_Exercises\\Exp3_HCV_Naive+Exp7_8_HIV\\reads_filtration_depleted\\HIV_unique_reads\\EC_HIV_060_1\\EC_HIV_060_1_unique_rpm.faa\",'fasta')"
            ],
            "outputs": [],
            "metadata": {}
        },
        {
            "cell_type": "code",
            "execution_count": 34,
            "source": [
                "depleted_list=[]\r\n",
                "\r\n",
                "for fasta_entry in fasta_sequences:\r\n",
                "    if fasta_entry.seq not in list_of_sequences_for_depletion:\r\n",
                "        depleted_list.append(fasta_entry)\r\n",
                "\r\n",
                "\r\n",
                "with open(r\"C:\\Users\\JonathanG03\\Dropbox\\MotifAi_Exercises\\Exp3_HCV_Naive+Exp7_8_HIV\\reads_filtration_depleted\\HIV_unique_reads\\EC_HIV_060_1\\EC_HIV_060_1_unique_rpm\"+\"_depleted.faa\", \"w\") as output_handle:\r\n",
                "    SeqIO.write(depleted_list, output_handle, \"fasta\")"
            ],
            "outputs": [],
            "metadata": {}
        }
    ],
    "metadata": {
        "orig_nbformat": 4,
        "language_info": {
            "name": "python",
            "version": "3.9.5",
            "mimetype": "text/x-python",
            "codemirror_mode": {
                "name": "ipython",
                "version": 3
            },
            "pygments_lexer": "ipython3",
            "nbconvert_exporter": "python",
            "file_extension": ".py"
        },
        "kernelspec": {
            "name": "python3",
            "display_name": "Python 3.9.5 64-bit"
        },
        "interpreter": {
            "hash": "9218199786a87ef2da65fcd33902113c7972e50f8c69cffcd97e6caa752b7664"
        }
    },
    "nbformat": 4,
    "nbformat_minor": 2
}