{
 "cells": [
  {
   "cell_type": "code",
   "execution_count": 4,
   "metadata": {},
   "outputs": [],
   "source": [
    "import csv"
   ]
  },
  {
   "cell_type": "code",
   "execution_count": 11,
   "metadata": {},
   "outputs": [],
   "source": [
    "file=open(r\"C:\\Users\\JonathanG03\\Dropbox\\MotifAi_Supplem\\distinctive_and_positive_motifs\\positive_selection_script_result\\normilaze_exp4\\base\\exp4_texas\\ferret_texas_hits.csv\")\n",
    "csvreader = csv.reader(file)\n",
    "rows = []\n",
    "for row in csvreader:\n",
    "        rows.append(row)\n",
    "rows\n",
    "top_55_base=rows[0]"
   ]
  },
  {
   "cell_type": "code",
   "execution_count": null,
   "metadata": {},
   "outputs": [],
   "source": [
    "file=open(r\"C:\\Users\\JonathanG03\\Dropbox\\MotifAi_Supplem\\distinctive_and_positive_motifs\\positive_selection_script_result\\normilaze_exp4\\base\\exp4_texas\\ferret_texas_hits_model\\best_model\\Top_13_features.csv\")\n",
    "csvreader = csv.reader(file)\n",
    "rows = []\n",
    "for row in csvreader:\n",
    "        rows.append(row)\n",
    "rows\n",
    "top_13_hits_base=rows[0]"
   ]
  },
  {
   "cell_type": "code",
   "execution_count": null,
   "metadata": {},
   "outputs": [],
   "source": [
    "file=open(r\"C:\\Users\\JonathanG03\\Dropbox\\MotifAi_Supplem\\distinctive_and_positive_motifs\\positive_selection_script_result\\normilaze_exp4\\base\\exp4_texas\\ferret_texas_hits_model\\best_model\\Top_27_features.csv\")\n",
    "csvreader = csv.reader(file)\n",
    "rows = []\n",
    "for row in csvreader:\n",
    "        rows.append(row)\n",
    "rows\n",
    "top_27_hits_base=rows[0]"
   ]
  },
  {
   "cell_type": "code",
   "execution_count": null,
   "metadata": {},
   "outputs": [],
   "source": [
    "file=open(r\"C:\\Users\\JonathanG03\\Dropbox\\MotifAi_Supplem\\distinctive_and_positive_motifs\\positive_selection_script_result\\normilaze_exp4\\hits\\linear_max_per_exp\\ferret_texas_new_model\\best_model\\Top_10_features.csv\")\n",
    "csvreader = csv.reader(file)\n",
    "rows = []\n",
    "for row in csvreader:\n",
    "        rows.append(row)\n",
    "rows\n",
    "top_10_hits_linear_max_per_exp=rows[0]"
   ]
  },
  {
   "cell_type": "code",
   "execution_count": null,
   "metadata": {},
   "outputs": [],
   "source": [
    "\n",
    "file=open(r\"C:\\Users\\JonathanG03\\Dropbox\\MotifAi_Supplem\\distinctive_and_positive_motifs\\positive_selection_script_result\\normilaze_exp4\\hits\\linear_max_per_exp\\ferret_texas_new_model\\best_model\\Top_5_features.csv\")\n",
    "csvreader = csv.reader(file)\n",
    "rows = []\n",
    "for row in csvreader:\n",
    "        rows.append(row)\n",
    "rows\n",
    "top_5_hits_linear_max_per_exp=rows[0]"
   ]
  },
  {
   "cell_type": "code",
   "execution_count": 13,
   "metadata": {},
   "outputs": [
    {
     "data": {
      "text/plain": [
       "{'CAGLCCKPTSPFSSLACSR',\n",
       " 'CCCKCSSLFSSSAC',\n",
       " 'CCCKTSNLFERWGCP',\n",
       " 'CGCHHIPQRCPCC',\n",
       " 'CLCHHIGQRMC',\n",
       " 'GRCRDTSLFNDRDC',\n",
       " 'IQCPKCCELFSHLACC',\n",
       " 'PCPAAKKAYSLFSRPCC',\n",
       " 'RGCSKLSSLFDLHPC',\n",
       " 'TCCCKDVSLFSSTC',\n",
       " 'sample_name'}"
      ]
     },
     "execution_count": 13,
     "metadata": {},
     "output_type": "execute_result"
    }
   ],
   "source": [
    "#compare: set(list_a)&set(list_b)\n",
    "set(top_10)&set(top_55_base)"
   ]
  },
  {
   "cell_type": "code",
   "execution_count": 9,
   "metadata": {},
   "outputs": [],
   "source": [
    "file=open(r\"C:\\Users\\JonathanG03\\Dropbox\\MotifAi_Exercises\\Sanofi\\exp12\\protocol3-experience\\model_fitting_protocol3_hits_only\\inference_hits_model\\best_model\\Top_1200_features.csv\")\n",
    "csvreader = csv.reader(file)\n",
    "rows = []\n",
    "for row in csvreader:\n",
    "        rows.append(row)\n",
    "rows\n",
    "top_1200_hits_protocol3=rows[0]"
   ]
  },
  {
   "cell_type": "code",
   "execution_count": 10,
   "metadata": {},
   "outputs": [],
   "source": [
    "file=open(r\"C:\\Users\\JonathanG03\\Dropbox\\MotifAi_Exercises\\Sanofi\\exp12\\model_fitting\\protocol2\\infected\\infected_hits_model\\best_model\\Top_50_features.csv\")\n",
    "csvreader = csv.reader(file)\n",
    "rows = []\n",
    "for row in csvreader:\n",
    "        rows.append(row)\n",
    "rows\n",
    "top_50_hits_ptorocol2=rows[0]"
   ]
  },
  {
   "cell_type": "code",
   "execution_count": 11,
   "metadata": {},
   "outputs": [
    {
     "data": {
      "text/plain": [
       "{'CCSAASVLLTC',\n",
       " 'CDECGHDILCLEFC',\n",
       " 'CDLPSVLLAMSC',\n",
       " 'CDPSPWGKFRAC',\n",
       " 'CEHQSYFNQFMHLC',\n",
       " 'CFHLDRIGFQLC',\n",
       " 'CGGSLLVC',\n",
       " 'CLDSQEVFLDLC',\n",
       " 'CLVEVQATQMPFFC',\n",
       " 'CLWFELDLPEYC',\n",
       " 'CNLSADRVSFLYC',\n",
       " 'CPANMTKNQC',\n",
       " 'CPWPMGEIYKSC',\n",
       " 'CQRYGIWTSC',\n",
       " 'CQSLGIWTSC',\n",
       " 'CREFATWNEPYC',\n",
       " 'CRGPVDGMSLIC',\n",
       " 'CRLSTQTGPC',\n",
       " 'CSLSQQLPYVPQHC',\n",
       " 'CSVATNMKHC',\n",
       " 'CSVATRTWTNQC',\n",
       " 'CTVQEPWLIMFC',\n",
       " 'CVLQTFESAKLC',\n",
       " 'CVPFPSHAWC',\n",
       " 'DIPFPAFSFE',\n",
       " 'DMPFPRFMSD',\n",
       " 'GSMLADSE',\n",
       " 'HLACGSLLCD',\n",
       " 'HPIWFAANKP',\n",
       " 'IPLIHHDIKMLP',\n",
       " 'LGLPWSTLDTT',\n",
       " 'LPQKYHPIPT',\n",
       " 'LPYWTLDTPH',\n",
       " 'MRPMGELLEM',\n",
       " 'NLNAPYSKYM',\n",
       " 'PGPWLQQAQV',\n",
       " 'VWADGTRPDL',\n",
       " 'sample_name'}"
      ]
     },
     "execution_count": 11,
     "metadata": {},
     "output_type": "execute_result"
    }
   ],
   "source": [
    "set(top_1200_hits_protocol3)&set(top_50_hits_ptorocol2)"
   ]
  },
  {
   "cell_type": "code",
   "execution_count": 13,
   "metadata": {},
   "outputs": [],
   "source": [
    "file=open(r\"C:\\Users\\JonathanG03\\Dropbox\\MotifAi_Exercises\\Sanofi\\exp12\\model_fitting\\protocol1\\model_fitting_ethiopia_naive\\Ethiopia_hits.csv\")\n",
    "csvreader = csv.reader(file)\n",
    "rows = []\n",
    "for row in csvreader:\n",
    "        rows.append(row)\n",
    "rows\n",
    "top_400_ethipoia=rows[0]\n",
    "file=open(r\"C:\\Users\\JonathanG03\\Dropbox\\MotifAi_Exercises\\Sanofi\\exp12\\model_fitting\\protocol1\\model_fitting_kenya_naive\\Kenya\\Kenya_hits.csv\")\n",
    "csvreader = csv.reader(file)\n",
    "rows = []\n",
    "for row in csvreader:\n",
    "        rows.append(row)\n",
    "rows\n",
    "top_400_kenya=rows[0]\n",
    "file=open(r\"C:\\Users\\JonathanG03\\Dropbox\\MotifAi_Exercises\\Sanofi\\exp12\\model_fitting\\protocol1\\model_fitting_osorno_naive\\Osorno\\Osorno_hits.csv\")\n",
    "csvreader = csv.reader(file)\n",
    "rows = []\n",
    "for row in csvreader:\n",
    "        rows.append(row)\n",
    "rows\n",
    "top_400_osorno=rows[0]\n",
    "strain=[]\n",
    "strain=set(top_400_ethipoia)&set(top_400_kenya)&set(top_400_osorno)"
   ]
  },
  {
   "cell_type": "code",
   "execution_count": 15,
   "metadata": {},
   "outputs": [
    {
     "data": {
      "text/plain": [
       "{'CEHQSYFNQFMHLC',\n",
       " 'CFHLDRIGFQLC',\n",
       " 'CLVEVQATQMPFFC',\n",
       " 'CNLSADRVSFLYC',\n",
       " 'CVLQTFESAKLC',\n",
       " 'DMPFPRFMSD',\n",
       " 'HLACGSLLCD',\n",
       " 'LPYWTLDTPH',\n",
       " 'sample_name'}"
      ]
     },
     "execution_count": 15,
     "metadata": {},
     "output_type": "execute_result"
    }
   ],
   "source": [
    "set(strain)&set(top_50_hits_ptorocol2)"
   ]
  },
  {
   "cell_type": "code",
   "execution_count": 16,
   "metadata": {},
   "outputs": [
    {
     "data": {
      "text/plain": [
       "{'CEHQSYFNQFMHLC', 'SKAGESLLPAPV', 'sample_name'}"
      ]
     },
     "execution_count": 16,
     "metadata": {},
     "output_type": "execute_result"
    }
   ],
   "source": [
    "file=open(r\"C:\\Users\\JonathanG03\\Dropbox\\MotifAi_Exercises\\Sanofi\\exp12\\protocol3-experience\\model_fitting_protocol3_hits_only\\inference_hits_model\\best_model\\Top_75_features.csv\")\n",
    "csvreader = csv.reader(file)\n",
    "rows = []\n",
    "for row in csvreader:\n",
    "        rows.append(row)\n",
    "rows\n",
    "top_75_hits_protocol3=rows[0]\n",
    "set(strain)&set(top_75_hits_protocol3)"
   ]
  },
  {
   "cell_type": "code",
   "execution_count": 5,
   "metadata": {},
   "outputs": [
    {
     "data": {
      "text/plain": [
       "{'ADAFSSLRPMTL',\n",
       " 'AGRMQVFSEV',\n",
       " 'APNGSVLHFLDS',\n",
       " 'ASEWPHYTDGQA',\n",
       " 'ATTETPWHELNV',\n",
       " 'CAHWPSHYMC',\n",
       " 'CASVFNQGPHLC',\n",
       " 'CCSAASVLLTC',\n",
       " 'CDLPSVLLAMSC',\n",
       " 'CDLSSYLTLLC',\n",
       " 'CDPNRPNREGLC',\n",
       " 'CDPSPWGKFRAC',\n",
       " 'CEHQSYFNQFMHLC',\n",
       " 'CERSQELFVSSC',\n",
       " 'CFHLDRIGFQLC',\n",
       " 'CFYLEAENQLKAIC',\n",
       " 'CFYTEGPAYLEVQC',\n",
       " 'CGELIKTPGGTRFC',\n",
       " 'CGHPWDSDLAPC',\n",
       " 'CGHYGLGLYSDC',\n",
       " 'CHLADPWLSWDC',\n",
       " 'CHPSLNKVAC',\n",
       " 'CHSLLSLSDC',\n",
       " 'CHVFCTPECETC',\n",
       " 'CITLLWVSEC',\n",
       " 'CITSLLGNAC',\n",
       " 'CKMPTQFGFC',\n",
       " 'CKQTAGIWVATC',\n",
       " 'CKYETQHGLC',\n",
       " 'CLDSQEVFLDLC',\n",
       " 'CLDVPLSVLRKC',\n",
       " 'CLLHPAYQQC',\n",
       " 'CLLPASQGRPEC',\n",
       " 'CLMHAIDFGAPLDC',\n",
       " 'CLQITGIWEGIC',\n",
       " 'CLQYHWMDLC',\n",
       " 'CLVEVQATQMPFFC',\n",
       " 'CMGSLLVC',\n",
       " 'CMMLSWASNVTC',\n",
       " 'CMYLFFTDYFYVQC',\n",
       " 'CNLSADRVSFLYC',\n",
       " 'CPPVDIQAC',\n",
       " 'CPSIQLLHLC',\n",
       " 'CPWPLTETPFAC',\n",
       " 'CPWPMGEIYKSC',\n",
       " 'CQDAGVWTVC',\n",
       " 'CQDANAPPASSWWC',\n",
       " 'CQMEERDPRC',\n",
       " 'CQMGPFVC',\n",
       " 'CQQMWASNFDQC',\n",
       " 'CQRYGIWTSC',\n",
       " 'CQSLGIWSSC',\n",
       " 'CRGPVDGMSLIC',\n",
       " 'CRLSTQTGPC',\n",
       " 'CRYPGHQDTC',\n",
       " 'CSLALHWMDAAC',\n",
       " 'CSLSQQLPYVPQHC',\n",
       " 'CSRPLSNVPMC',\n",
       " 'CVGHLIDKMVSTEC',\n",
       " 'CVLQTFESAKLC',\n",
       " 'CVTSQNEVISTC',\n",
       " 'CWQLLWILEC',\n",
       " 'CWSEERSSWTLC',\n",
       " 'CWTTPYEFGDYC',\n",
       " 'DLADASND',\n",
       " 'DMPFPRFMSD',\n",
       " 'DPLLEWFIPS',\n",
       " 'EPMVWMLSLPFS',\n",
       " 'FAGRPLELVQTP',\n",
       " 'FGRNVSCPNAPSVC',\n",
       " 'FMGHPRDSGP',\n",
       " 'FRMMCELWAC',\n",
       " 'GSMLADSE',\n",
       " 'HLACGSLLCD',\n",
       " 'IIHQFATFPA',\n",
       " 'IPLIHHDIKMLP',\n",
       " 'KQGMMKHDLTNS',\n",
       " 'LALSLLTGNE',\n",
       " 'LCLYTNAPAC',\n",
       " 'LGADVLSR',\n",
       " 'LGKAGSGFRNEA',\n",
       " 'LGWLLGAWKTQP',\n",
       " 'LPQMSASHFK',\n",
       " 'LPYWTLDTPH',\n",
       " 'LTDKDVHFFRQA',\n",
       " 'LTVLHPASQRC',\n",
       " 'MGFGSDKYLP',\n",
       " 'MMWTMNKTPSG',\n",
       " 'PDSVAFINIL',\n",
       " 'PEIFDRHYIWVS',\n",
       " 'PGASDMKGSY',\n",
       " 'PRHDTRYLEY',\n",
       " 'QQSRWDMAKH',\n",
       " 'RGRDSDYLFDAS',\n",
       " 'RNDVWMIAD',\n",
       " 'RVVINEKGPI',\n",
       " 'SCMNPDPLWNC',\n",
       " 'SFAWHILVSD',\n",
       " 'SGWQVLKLDD',\n",
       " 'SLTPLSLLNDVN',\n",
       " 'SNPLIRERH',\n",
       " 'SSTFSHCFKMPGSC',\n",
       " 'TLAELDQLNSRS',\n",
       " 'VKPGLAFFTGNE',\n",
       " 'WLAYSPNAPRVV',\n",
       " 'WLGPSMDKVSTT',\n",
       " 'sample_name'}"
      ]
     },
     "execution_count": 5,
     "metadata": {},
     "output_type": "execute_result"
    }
   ],
   "source": [
    "file=open(r\"C:\\Users\\JonathanG03\\Dropbox\\MotifAi_Exercises\\Sanofi\\exp12\\model_fitting\\protocol1\\model_fitting_kenya_naive\\positive_motifs\\positive_motifs_model\\best_model\\Top_123_features.csv\")\n",
    "csvreader = csv.reader(file)\n",
    "rows = []\n",
    "for row in csvreader:\n",
    "        rows.append(row)\n",
    "rows\n",
    "top_123_hits_protocol4=rows[0]\n",
    "file=open(r\"C:\\Users\\JonathanG03\\Dropbox\\MotifAi_Exercises\\Sanofi\\exp12\\model_fitting\\protocol1\\model_fitting_kenya_naive\\Kenya\\Kenya_hits_model\\best_model\\Top_200_features.csv\")\n",
    "csvreader = csv.reader(file)\n",
    "rows = []\n",
    "for row in csvreader:\n",
    "        rows.append(row)\n",
    "rows\n",
    "top_200_hits_protocol1=rows[0]\n",
    "set(top_200_hits_protocol1)&set(top_123_hits_protocol4)\n"
   ]
  },
  {
   "cell_type": "code",
   "execution_count": null,
   "metadata": {},
   "outputs": [],
   "source": []
  }
 ],
 "metadata": {
  "interpreter": {
   "hash": "9218199786a87ef2da65fcd33902113c7972e50f8c69cffcd97e6caa752b7664"
  },
  "kernelspec": {
   "display_name": "Python 3.9.5 64-bit",
   "name": "python3"
  },
  "language_info": {
   "codemirror_mode": {
    "name": "ipython",
    "version": 3
   },
   "file_extension": ".py",
   "mimetype": "text/x-python",
   "name": "python",
   "nbconvert_exporter": "python",
   "pygments_lexer": "ipython3",
   "version": "3.9.5"
  },
  "orig_nbformat": 4
 },
 "nbformat": 4,
 "nbformat_minor": 2
}
