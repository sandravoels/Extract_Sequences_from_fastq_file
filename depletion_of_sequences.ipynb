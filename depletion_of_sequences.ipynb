{
 "cells": [
  {
   "cell_type": "code",
   "execution_count": null,
   "metadata": {},
   "outputs": [],
   "source": [
    "#DEPLET ONE LIST FROM OTHER LIST"
   ]
  },
  {
   "cell_type": "code",
   "execution_count": 10,
   "metadata": {},
   "outputs": [],
   "source": [
    "import os\n",
    "import pandas as pd\n",
    "\n",
    "from Bio import SeqIO\n",
    "\n",
    "#directory of fasta file\n",
    "os.chdir(r'C:\\Users\\JonathanG03\\Dropbox\\MotifAi_Exercises\\sanofi_mAB_EXP4\\patients\\output\\compare\\peptide_236')"
   ]
  },
  {
   "cell_type": "code",
   "execution_count": 11,
   "metadata": {
    "tags": []
   },
   "outputs": [],
   "source": [
    "fasta_sequences = SeqIO.parse(('patient_236_D21_2015_c_mAb_c585_unique_rpm.faa'),'fasta') #read fasta file\n",
    "# for entry in fasta_sequences:\n",
    "   # print (entry.id)\n",
    "\n",
    "# with open(output_file) as out_file:\n",
    "#     for fasta in fasta_sequences:\n",
    "#         name, sequence = fasta.id, str(fasta.seq)\n",
    "#         new_sequence = some_function(sequence)\n",
    "#         write_fasta(out_file)"
   ]
  },
  {
   "cell_type": "code",
   "execution_count": 12,
   "metadata": {},
   "outputs": [],
   "source": [
    "#read from exel file, list of peptides from D0\r\n",
    "os.chdir(r'C:\\Users\\JonathanG03\\Dropbox\\MotifAi_Exercises\\sanofi_mAB_EXP4\\patients\\output\\compare\\peptide_236')\r\n",
    "df= pd.read_excel('peptides_counted_236_2013_D0.xlsx',sheet_name='D0')\r\n",
    "list_of_sequences_for_depletion=df['peptide'].tolist() #only this column"
   ]
  },
  {
   "cell_type": "code",
   "execution_count": 13,
   "metadata": {
    "tags": []
   },
   "outputs": [],
   "source": [
    "#compare seq with sequences that will be depleted\n",
    "# list_of_sequences_for_depletion=['SAIHFTEPVTFF']\n",
    "\n",
    "depleted_list=[]\n",
    "\n",
    "for fasta_entry in fasta_sequences:\n",
    "    if fasta_entry.seq not in list_of_sequences_for_depletion:\n",
    "        depleted_list.append(fasta_entry)\n",
    "\n",
    "\n",
    "with open(\"patient_236_D21_2015_c_mAb_c585_unique_rpm_depleted.faa\", \"w\") as output_handle:\n",
    "    SeqIO.write(depleted_list, output_handle, \"fasta\")"
   ]
  }
 ],
 "metadata": {
  "interpreter": {
   "hash": "9218199786a87ef2da65fcd33902113c7972e50f8c69cffcd97e6caa752b7664"
  },
  "kernelspec": {
   "display_name": "Python 3.9.5 64-bit",
   "name": "python3"
  },
  "language_info": {
   "codemirror_mode": {
    "name": "ipython",
    "version": 3
   },
   "file_extension": ".py",
   "mimetype": "text/x-python",
   "name": "python",
   "nbconvert_exporter": "python",
   "pygments_lexer": "ipython3",
   "version": "3.9.5"
  },
  "orig_nbformat": 4
 },
 "nbformat": 4,
 "nbformat_minor": 2
}