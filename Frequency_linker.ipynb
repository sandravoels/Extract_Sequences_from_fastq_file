{
 "metadata": {
  "language_info": {
   "codemirror_mode": {
    "name": "ipython",
    "version": 3
   },
   "file_extension": ".py",
   "mimetype": "text/x-python",
   "name": "python",
   "nbconvert_exporter": "python",
   "pygments_lexer": "ipython3",
   "version": "3.8.3"
  },
  "orig_nbformat": 2,
  "kernelspec": {
   "name": "python383jvsc74a57bd0cc5f70855ac006f3de45a3cc3b9e7d8d53845e50458809cb162b0174266dec97",
   "display_name": "Python 3.8.3 64-bit ('base': conda)"
  }
 },
 "nbformat": 4,
 "nbformat_minor": 2,
 "cells": [
  {
   "cell_type": "code",
   "execution_count": 198,
   "metadata": {},
   "outputs": [],
   "source": [
    "import os\n",
    "import numpy as np\n",
    "import pandas as pd\n",
    "\n",
    "from Bio.Seq import Seq\n",
    "from Bio import SeqIO\n",
    "#from Bio.Alphabet import Alphabet\n",
    "from Bio.SeqRecord import SeqRecord\n",
    "\n",
    "pd.options.mode.chained_assignment = None\n",
    "import time\n",
    "\n",
    "DIR = r'D:\\Dropbox\\Sandra Postdoc\\Experiments\\COVID-19 panning\\NGS data Pannings\\Results\\RpMs\\441'"
   ]
  },
  {
   "cell_type": "code",
   "execution_count": 199,
   "metadata": {},
   "outputs": [
    {
     "output_type": "stream",
     "name": "stdout",
     "text": [
      "98705\n98705\n"
     ]
    },
    {
     "output_type": "execute_result",
     "data": {
      "text/plain": [
       "                                   sequence_read                    rpm\n",
       "0   ELWSNNLDSKVGGNYNYLYRLFQLYHYQAGSTPCNGVEGFNCYF   s_517013.12672738207\n",
       "1   ELWSNNLDSKVGGNYNYLYRLFRLRYQAGSTPCNGVEGFNCYFP    s_92253.43886252563\n",
       "2   ELWWNSNNLDSKVGGNYNYLYRLFRLRYQAGSTPCNGVEGFNCY   s_25353.794139790505\n",
       "3   ELWSNNLDSKVGGNYNYLYRLFAPDGAYQAGSTPCNGVEGFNCY    s_22586.92489148723\n",
       "4   ELWNLDSKVGGNYNYLYRLFRLRYQAGSTPCNGVEGFNCYFPLQ   s_15976.162357245388\n",
       "5   ELWDSKVGGNYNYLYRLFQLENYRAGSTPCNGVEGFNCYFPLQS   s_12877.195407388472\n",
       "6   ELWSNNLDSKVGGNYNYLYRLFRLPVYQAGSTPCNGVEGFNCYF    s_9930.516353824109\n",
       "7   ELWSNNLDSKVGGNYNYLYRLFQLYHYQAGSTPCNGVEGFKCYF    s_7237.038862770258\n",
       "8   ELWNSNNLDSKVGGNYNYLYRLFLLMKYQAGSTPCNGVEGFNCY    s_7231.534480976551\n",
       "9   ELWWNSNNLDSKVGGNYNYLYRLFQLYHYQAGSTPCNGVEGFNC  ts_7042.5507060592845\n",
       "10  ELWDSKVGGNYNYLYRLFQLYHYQAGSTPCNGVEGFNCYFPLQS   ts_6342.882620281445\n",
       "11  ELWSNNLDSKVGGNYNYLYRLFQLYHYKAGSTPCNGVEGFNCYF   ts_6312.914319404597\n",
       "12  ELWNLDSKVGGNYNYLYRLFQLYHYQAGSTPCNGVEGFNCYFPL   ts_5914.764036326474\n",
       "13  ELWNLDSKVGGNYNYLYRLFRLRYQAGSTPCNGVEEFNCYFPLQ   ts_5487.868648325659\n",
       "14  ELWSNNLDSKVGGNYNYLYRLFQLYNYQAGSTPCNGVEGFNCYF   ts_4391.885073400931\n",
       "15  ELWSNNLDSKVGGNYNYLYRLFQLYHYQAGSTPCNGVEGFNSYF   ts_4308.096150541172\n",
       "16  ELWSNNLDSKVGGNYNYLYRLFQLENYRAGSTPCNGVEGFNCYF  ts_3975.3868510104517\n",
       "17  ELWSNNLDSKVGGNYNYLYRLFLLMKYQAGSTPCNGVEGFNCYF  ts_3938.0793744086614\n",
       "18  ELWNSNNLDSKVGGNYNYLYRLFQLYHYQAGSTPCNGVEGFNCY   ts_3724.631680408254\n",
       "19  ELWTNLDSKVGGNYNYLYRLFFTKYYQAGSTPCNGVEGFNCYFP  ts_3598.6424971300767"
      ],
      "text/html": "<div>\n<style scoped>\n    .dataframe tbody tr th:only-of-type {\n        vertical-align: middle;\n    }\n\n    .dataframe tbody tr th {\n        vertical-align: top;\n    }\n\n    .dataframe thead th {\n        text-align: right;\n    }\n</style>\n<table border=\"1\" class=\"dataframe\">\n  <thead>\n    <tr style=\"text-align: right;\">\n      <th></th>\n      <th>sequence_read</th>\n      <th>rpm</th>\n    </tr>\n  </thead>\n  <tbody>\n    <tr>\n      <th>0</th>\n      <td>ELWSNNLDSKVGGNYNYLYRLFQLYHYQAGSTPCNGVEGFNCYF</td>\n      <td>s_517013.12672738207</td>\n    </tr>\n    <tr>\n      <th>1</th>\n      <td>ELWSNNLDSKVGGNYNYLYRLFRLRYQAGSTPCNGVEGFNCYFP</td>\n      <td>s_92253.43886252563</td>\n    </tr>\n    <tr>\n      <th>2</th>\n      <td>ELWWNSNNLDSKVGGNYNYLYRLFRLRYQAGSTPCNGVEGFNCY</td>\n      <td>s_25353.794139790505</td>\n    </tr>\n    <tr>\n      <th>3</th>\n      <td>ELWSNNLDSKVGGNYNYLYRLFAPDGAYQAGSTPCNGVEGFNCY</td>\n      <td>s_22586.92489148723</td>\n    </tr>\n    <tr>\n      <th>4</th>\n      <td>ELWNLDSKVGGNYNYLYRLFRLRYQAGSTPCNGVEGFNCYFPLQ</td>\n      <td>s_15976.162357245388</td>\n    </tr>\n    <tr>\n      <th>5</th>\n      <td>ELWDSKVGGNYNYLYRLFQLENYRAGSTPCNGVEGFNCYFPLQS</td>\n      <td>s_12877.195407388472</td>\n    </tr>\n    <tr>\n      <th>6</th>\n      <td>ELWSNNLDSKVGGNYNYLYRLFRLPVYQAGSTPCNGVEGFNCYF</td>\n      <td>s_9930.516353824109</td>\n    </tr>\n    <tr>\n      <th>7</th>\n      <td>ELWSNNLDSKVGGNYNYLYRLFQLYHYQAGSTPCNGVEGFKCYF</td>\n      <td>s_7237.038862770258</td>\n    </tr>\n    <tr>\n      <th>8</th>\n      <td>ELWNSNNLDSKVGGNYNYLYRLFLLMKYQAGSTPCNGVEGFNCY</td>\n      <td>s_7231.534480976551</td>\n    </tr>\n    <tr>\n      <th>9</th>\n      <td>ELWWNSNNLDSKVGGNYNYLYRLFQLYHYQAGSTPCNGVEGFNC</td>\n      <td>ts_7042.5507060592845</td>\n    </tr>\n    <tr>\n      <th>10</th>\n      <td>ELWDSKVGGNYNYLYRLFQLYHYQAGSTPCNGVEGFNCYFPLQS</td>\n      <td>ts_6342.882620281445</td>\n    </tr>\n    <tr>\n      <th>11</th>\n      <td>ELWSNNLDSKVGGNYNYLYRLFQLYHYKAGSTPCNGVEGFNCYF</td>\n      <td>ts_6312.914319404597</td>\n    </tr>\n    <tr>\n      <th>12</th>\n      <td>ELWNLDSKVGGNYNYLYRLFQLYHYQAGSTPCNGVEGFNCYFPL</td>\n      <td>ts_5914.764036326474</td>\n    </tr>\n    <tr>\n      <th>13</th>\n      <td>ELWNLDSKVGGNYNYLYRLFRLRYQAGSTPCNGVEEFNCYFPLQ</td>\n      <td>ts_5487.868648325659</td>\n    </tr>\n    <tr>\n      <th>14</th>\n      <td>ELWSNNLDSKVGGNYNYLYRLFQLYNYQAGSTPCNGVEGFNCYF</td>\n      <td>ts_4391.885073400931</td>\n    </tr>\n    <tr>\n      <th>15</th>\n      <td>ELWSNNLDSKVGGNYNYLYRLFQLYHYQAGSTPCNGVEGFNSYF</td>\n      <td>ts_4308.096150541172</td>\n    </tr>\n    <tr>\n      <th>16</th>\n      <td>ELWSNNLDSKVGGNYNYLYRLFQLENYRAGSTPCNGVEGFNCYF</td>\n      <td>ts_3975.3868510104517</td>\n    </tr>\n    <tr>\n      <th>17</th>\n      <td>ELWSNNLDSKVGGNYNYLYRLFLLMKYQAGSTPCNGVEGFNCYF</td>\n      <td>ts_3938.0793744086614</td>\n    </tr>\n    <tr>\n      <th>18</th>\n      <td>ELWNSNNLDSKVGGNYNYLYRLFQLYHYQAGSTPCNGVEGFNCY</td>\n      <td>ts_3724.631680408254</td>\n    </tr>\n    <tr>\n      <th>19</th>\n      <td>ELWTNLDSKVGGNYNYLYRLFFTKYYQAGSTPCNGVEGFNCYFP</td>\n      <td>ts_3598.6424971300767</td>\n    </tr>\n  </tbody>\n</table>\n</div>"
     },
     "metadata": {},
     "execution_count": 199
    }
   ],
   "source": [
    "list_sequences = []\n",
    "rpm = []\n",
    "\n",
    "filename=\"441_elu77_NNK1_5_unique_rpm\"\n",
    "\n",
    "with open(os.path.join(DIR, filename+'.faa'), 'r') as f:  \n",
    "\n",
    "        n=0\n",
    "        m=1\n",
    "\n",
    "        for i, line in enumerate(f):\n",
    "            if i == n:\n",
    "                rpm.append(line[26:-1])\n",
    "                n+=2             \n",
    "            if i == m:\n",
    "                list_sequences.append(line[:-1])\n",
    "                m+=2\n",
    "            #if i>10002:\n",
    "              #  break\n",
    "            \n",
    "print(len(list_sequences))\n",
    "print(len(rpm))\n",
    "\n",
    "df_read = pd.DataFrame(\n",
    "    {'sequence_read': list_sequences,\n",
    "    'rpm': rpm\n",
    "    })\n",
    "df_read.head(20)"
   ]
  },
  {
   "cell_type": "code",
   "execution_count": 200,
   "metadata": {},
   "outputs": [
    {
     "output_type": "execute_result",
     "data": {
      "text/plain": [
       "                                      sequence_read                 rpm\n",
       "0      ELWSNNLDSKVGGNYNYLYRLFQLYHYQAGSTPCNGVEGFNCYF  517013.12672738207\n",
       "1      ELWSNNLDSKVGGNYNYLYRLFRLRYQAGSTPCNGVEGFNCYFP   92253.43886252563\n",
       "2      ELWWNSNNLDSKVGGNYNYLYRLFRLRYQAGSTPCNGVEGFNCY  25353.794139790505\n",
       "3      ELWSNNLDSKVGGNYNYLYRLFAPDGAYQAGSTPCNGVEGFNCY   22586.92489148723\n",
       "4      ELWNLDSKVGGNYNYLYRLFRLRYQAGSTPCNGVEGFNCYFPLQ  15976.162357245388\n",
       "...                                             ...                 ...\n",
       "98700  _LWWNSNNLDSKVGGNYNYLYRLFRLRYQAGSTPCNGVEGVNCY   0.611597977078531\n",
       "98701  _LWWNSNNLDSKVGGNYNYLYRLFR_RYQAGSTQCNGVEGFNCN   0.611597977078531\n",
       "98702  _LWWNSNNLDSKVGGNYNYLYRLFVRTEYQAGSTPCNGVEGFNC   0.611597977078531\n",
       "98703  _LWWNSNNLDSKVGGNYNYLYRLIRLRYQAGSTPCNGVEGFNCY   0.611597977078531\n",
       "98704  _LWWNSNNLDSKVGGNYNYLYRLLRLRYQAGSTPSNGVEGFNCY   0.611597977078531\n",
       "\n",
       "[98705 rows x 2 columns]"
      ],
      "text/html": "<div>\n<style scoped>\n    .dataframe tbody tr th:only-of-type {\n        vertical-align: middle;\n    }\n\n    .dataframe tbody tr th {\n        vertical-align: top;\n    }\n\n    .dataframe thead th {\n        text-align: right;\n    }\n</style>\n<table border=\"1\" class=\"dataframe\">\n  <thead>\n    <tr style=\"text-align: right;\">\n      <th></th>\n      <th>sequence_read</th>\n      <th>rpm</th>\n    </tr>\n  </thead>\n  <tbody>\n    <tr>\n      <th>0</th>\n      <td>ELWSNNLDSKVGGNYNYLYRLFQLYHYQAGSTPCNGVEGFNCYF</td>\n      <td>517013.12672738207</td>\n    </tr>\n    <tr>\n      <th>1</th>\n      <td>ELWSNNLDSKVGGNYNYLYRLFRLRYQAGSTPCNGVEGFNCYFP</td>\n      <td>92253.43886252563</td>\n    </tr>\n    <tr>\n      <th>2</th>\n      <td>ELWWNSNNLDSKVGGNYNYLYRLFRLRYQAGSTPCNGVEGFNCY</td>\n      <td>25353.794139790505</td>\n    </tr>\n    <tr>\n      <th>3</th>\n      <td>ELWSNNLDSKVGGNYNYLYRLFAPDGAYQAGSTPCNGVEGFNCY</td>\n      <td>22586.92489148723</td>\n    </tr>\n    <tr>\n      <th>4</th>\n      <td>ELWNLDSKVGGNYNYLYRLFRLRYQAGSTPCNGVEGFNCYFPLQ</td>\n      <td>15976.162357245388</td>\n    </tr>\n    <tr>\n      <th>...</th>\n      <td>...</td>\n      <td>...</td>\n    </tr>\n    <tr>\n      <th>98700</th>\n      <td>_LWWNSNNLDSKVGGNYNYLYRLFRLRYQAGSTPCNGVEGVNCY</td>\n      <td>0.611597977078531</td>\n    </tr>\n    <tr>\n      <th>98701</th>\n      <td>_LWWNSNNLDSKVGGNYNYLYRLFR_RYQAGSTQCNGVEGFNCN</td>\n      <td>0.611597977078531</td>\n    </tr>\n    <tr>\n      <th>98702</th>\n      <td>_LWWNSNNLDSKVGGNYNYLYRLFVRTEYQAGSTPCNGVEGFNC</td>\n      <td>0.611597977078531</td>\n    </tr>\n    <tr>\n      <th>98703</th>\n      <td>_LWWNSNNLDSKVGGNYNYLYRLIRLRYQAGSTPCNGVEGFNCY</td>\n      <td>0.611597977078531</td>\n    </tr>\n    <tr>\n      <th>98704</th>\n      <td>_LWWNSNNLDSKVGGNYNYLYRLLRLRYQAGSTPSNGVEGFNCY</td>\n      <td>0.611597977078531</td>\n    </tr>\n  </tbody>\n</table>\n<p>98705 rows × 2 columns</p>\n</div>"
     },
     "metadata": {},
     "execution_count": 200
    }
   ],
   "source": [
    "df_read['rpm']=df_read['rpm'].str.strip('counts_')\n",
    "df_read"
   ]
  },
  {
   "cell_type": "code",
   "execution_count": 201,
   "metadata": {},
   "outputs": [
    {
     "output_type": "stream",
     "name": "stdout",
     "text": [
      "0.611597977078531     83830\n1.223195954157062      5948\n1.834793931235593      2517\n2.446391908314124      1318\n3.0579898853926553      834\n                      ...  \n128.43557518649152        1\n222.01006567950677        1\n533.9250339895576         1\n394.48069521565253        1\n1733.268667040557         1\nName: rpm, Length: 389, dtype: int64\n"
     ]
    }
   ],
   "source": [
    "print(df_read['rpm'].value_counts())"
   ]
  },
  {
   "cell_type": "code",
   "execution_count": 202,
   "metadata": {},
   "outputs": [
    {
     "output_type": "stream",
     "name": "stdout",
     "text": [
      "22          67473\nno match    11372\n20           3963\n18           3922\n24           3224\nno F         3120\n23           2195\n21           1872\n19           1161\n25            389\n17              6\n26              4\n27              3\n28              1\nName: start_linker, dtype: int64\n26          45170\nno match    17660\n25          15038\n27           6391\n23           3466\nno Y         3261\n22           3194\n24           1930\n28           1499\n21            622\n29            347\n20             39\n19             23\n30             19\n18             15\n14             11\n16              8\n13              5\n15              3\n32              2\n31              1\n17              1\nName: end_linker, dtype: int64\n"
     ]
    }
   ],
   "source": [
    "import regex\n",
    "\n",
    "def before_linker(sequence):\n",
    "    matches = regex.search('(NYNYLYRLF){e<=1}', sequence, regex.BESTMATCH)\n",
    "    if matches ==None:\n",
    "        return ('no match')\n",
    "    else:\n",
    "        index_end = matches.end()\n",
    "        if sequence[index_end-1] == 'F':\n",
    "            return (index_end)\n",
    "        if sequence[index_end-1] == 'V':\n",
    "            return (index_end)\n",
    "        else:\n",
    "            return ('no F')\n",
    "        \n",
    "def after_linker(sequence):\n",
    "    matches = regex.search('(YQAGSTP){e<=1}', sequence, regex.BESTMATCH)\n",
    "    if matches ==None:\n",
    "        return ('no match')\n",
    "    else:\n",
    "        index_start = matches.start()\n",
    "        if sequence[index_start] == 'Y':\n",
    "            return (index_start)\n",
    "        else:\n",
    "            return ('no Y')\n",
    "        \n",
    "        \n",
    "df_read['start_linker'] = df_read['sequence_read'].apply(before_linker)\n",
    "df_read['end_linker'] = df_read['sequence_read'].apply(after_linker)\n",
    "\n",
    "df_read\n",
    "print(df_read['start_linker'].value_counts())\n",
    "print(df_read['end_linker'].value_counts())"
   ]
  },
  {
   "cell_type": "code",
   "execution_count": 203,
   "metadata": {},
   "outputs": [
    {
     "output_type": "execute_result",
     "data": {
      "text/plain": [
       "                                      sequence_read                 rpm  \\\n",
       "0      ELWSNNLDSKVGGNYNYLYRLFQLYHYQAGSTPCNGVEGFNCYF  517013.12672738207   \n",
       "1      ELWSNNLDSKVGGNYNYLYRLFRLRYQAGSTPCNGVEGFNCYFP   92253.43886252563   \n",
       "2      ELWWNSNNLDSKVGGNYNYLYRLFRLRYQAGSTPCNGVEGFNCY  25353.794139790505   \n",
       "3      ELWSNNLDSKVGGNYNYLYRLFAPDGAYQAGSTPCNGVEGFNCY   22586.92489148723   \n",
       "4      ELWNLDSKVGGNYNYLYRLFRLRYQAGSTPCNGVEGFNCYFPLQ  15976.162357245388   \n",
       "...                                             ...                 ...   \n",
       "98698  _LWWNSNNLDSKVGGNYNYLYRLFRLPIYQAGSTPCNGVEGFNC   0.611597977078531   \n",
       "98699  _LWWNSNNLDSKVGGNYNYLYRLFRLRYQAGSTPCNGVEEFNCY   0.611597977078531   \n",
       "98700  _LWWNSNNLDSKVGGNYNYLYRLFRLRYQAGSTPCNGVEGVNCY   0.611597977078531   \n",
       "98701  _LWWNSNNLDSKVGGNYNYLYRLFR_RYQAGSTQCNGVEGFNCN   0.611597977078531   \n",
       "98702  _LWWNSNNLDSKVGGNYNYLYRLFVRTEYQAGSTPCNGVEGFNC   0.611597977078531   \n",
       "\n",
       "      start_linker end_linker  \n",
       "0               22         26  \n",
       "1               22         25  \n",
       "2               24         27  \n",
       "3               22         27  \n",
       "4               20         23  \n",
       "...            ...        ...  \n",
       "98698           24         28  \n",
       "98699           24         27  \n",
       "98700           24         27  \n",
       "98701           24         27  \n",
       "98702           24         28  \n",
       "\n",
       "[68950 rows x 4 columns]"
      ],
      "text/html": "<div>\n<style scoped>\n    .dataframe tbody tr th:only-of-type {\n        vertical-align: middle;\n    }\n\n    .dataframe tbody tr th {\n        vertical-align: top;\n    }\n\n    .dataframe thead th {\n        text-align: right;\n    }\n</style>\n<table border=\"1\" class=\"dataframe\">\n  <thead>\n    <tr style=\"text-align: right;\">\n      <th></th>\n      <th>sequence_read</th>\n      <th>rpm</th>\n      <th>start_linker</th>\n      <th>end_linker</th>\n    </tr>\n  </thead>\n  <tbody>\n    <tr>\n      <th>0</th>\n      <td>ELWSNNLDSKVGGNYNYLYRLFQLYHYQAGSTPCNGVEGFNCYF</td>\n      <td>517013.12672738207</td>\n      <td>22</td>\n      <td>26</td>\n    </tr>\n    <tr>\n      <th>1</th>\n      <td>ELWSNNLDSKVGGNYNYLYRLFRLRYQAGSTPCNGVEGFNCYFP</td>\n      <td>92253.43886252563</td>\n      <td>22</td>\n      <td>25</td>\n    </tr>\n    <tr>\n      <th>2</th>\n      <td>ELWWNSNNLDSKVGGNYNYLYRLFRLRYQAGSTPCNGVEGFNCY</td>\n      <td>25353.794139790505</td>\n      <td>24</td>\n      <td>27</td>\n    </tr>\n    <tr>\n      <th>3</th>\n      <td>ELWSNNLDSKVGGNYNYLYRLFAPDGAYQAGSTPCNGVEGFNCY</td>\n      <td>22586.92489148723</td>\n      <td>22</td>\n      <td>27</td>\n    </tr>\n    <tr>\n      <th>4</th>\n      <td>ELWNLDSKVGGNYNYLYRLFRLRYQAGSTPCNGVEGFNCYFPLQ</td>\n      <td>15976.162357245388</td>\n      <td>20</td>\n      <td>23</td>\n    </tr>\n    <tr>\n      <th>...</th>\n      <td>...</td>\n      <td>...</td>\n      <td>...</td>\n      <td>...</td>\n    </tr>\n    <tr>\n      <th>98698</th>\n      <td>_LWWNSNNLDSKVGGNYNYLYRLFRLPIYQAGSTPCNGVEGFNC</td>\n      <td>0.611597977078531</td>\n      <td>24</td>\n      <td>28</td>\n    </tr>\n    <tr>\n      <th>98699</th>\n      <td>_LWWNSNNLDSKVGGNYNYLYRLFRLRYQAGSTPCNGVEEFNCY</td>\n      <td>0.611597977078531</td>\n      <td>24</td>\n      <td>27</td>\n    </tr>\n    <tr>\n      <th>98700</th>\n      <td>_LWWNSNNLDSKVGGNYNYLYRLFRLRYQAGSTPCNGVEGVNCY</td>\n      <td>0.611597977078531</td>\n      <td>24</td>\n      <td>27</td>\n    </tr>\n    <tr>\n      <th>98701</th>\n      <td>_LWWNSNNLDSKVGGNYNYLYRLFR_RYQAGSTQCNGVEGFNCN</td>\n      <td>0.611597977078531</td>\n      <td>24</td>\n      <td>27</td>\n    </tr>\n    <tr>\n      <th>98702</th>\n      <td>_LWWNSNNLDSKVGGNYNYLYRLFVRTEYQAGSTPCNGVEGFNC</td>\n      <td>0.611597977078531</td>\n      <td>24</td>\n      <td>28</td>\n    </tr>\n  </tbody>\n</table>\n<p>68950 rows × 4 columns</p>\n</div>"
     },
     "metadata": {},
     "execution_count": 203
    }
   ],
   "source": [
    "#determine start and end of peptide and remove sequences that don't fit filter\n",
    "\n",
    "df_read_integers= df_read[df_read.start_linker.apply(lambda x: isinstance(x,int))]\n",
    "df_read_integers= df_read_integers[df_read_integers.end_linker.apply(lambda x: isinstance(x,int))]\n",
    "\n",
    "df_read_integers"
   ]
  },
  {
   "cell_type": "code",
   "execution_count": 204,
   "metadata": {},
   "outputs": [],
   "source": [
    "df_read_integers['sequence_read'] = df_read_integers.apply(lambda x: x['sequence_read'][x['start_linker']:x['end_linker']], 1)  \n",
    "\n",
    "df_read_integers\n",
    "df_read_integers['rpm']=df_read_integers['rpm'].astype(str).astype(float)"
   ]
  },
  {
   "cell_type": "code",
   "execution_count": 205,
   "metadata": {},
   "outputs": [
    {
     "output_type": "execute_result",
     "data": {
      "text/plain": [
       "4    47960\n",
       "3    17681\n",
       "5     2993\n",
       "2      165\n",
       "1      148\n",
       "6        3\n",
       "Name: length_linker, dtype: int64"
      ]
     },
     "metadata": {},
     "execution_count": 205
    }
   ],
   "source": [
    "df_read_integers['length_linker'] = df_read_integers['end_linker'] - df_read_integers['start_linker']\n",
    "df_read_integers['length_linker'].value_counts()"
   ]
  },
  {
   "cell_type": "code",
   "execution_count": 206,
   "metadata": {},
   "outputs": [
    {
     "output_type": "execute_result",
     "data": {
      "text/plain": [
       "4    47960\n",
       "3    17681\n",
       "5     2993\n",
       "2      165\n",
       "1      148\n",
       "6        3\n",
       "Name: length_linker, dtype: int64"
      ]
     },
     "metadata": {},
     "execution_count": 206
    }
   ],
   "source": [
    "df_read_integers= df_read_integers[df_read_integers.length_linker.apply(lambda x: x in [0,1,2,3,4,5,6,7])]\n",
    "df_read_integers['length_linker'].value_counts()"
   ]
  },
  {
   "cell_type": "code",
   "execution_count": 207,
   "metadata": {},
   "outputs": [
    {
     "output_type": "execute_result",
     "data": {
      "text/plain": [
       "      sequence_read            rpm start_linker end_linker length_linker\n",
       "0              QLYH  517013.126727           22         26             4\n",
       "1               RLR   92253.438863           22         25             3\n",
       "2               RLR   25353.794140           24         27             3\n",
       "3             APDGA   22586.924891           22         27             5\n",
       "4               RLR   15976.162357           20         23             3\n",
       "...             ...            ...          ...        ...           ...\n",
       "98697          QMYH       0.611598           24         28             4\n",
       "98698          RLPI       0.611598           24         28             4\n",
       "98699           RLR       0.611598           24         27             3\n",
       "98700           RLR       0.611598           24         27             3\n",
       "98702          VRTE       0.611598           24         28             4\n",
       "\n",
       "[66623 rows x 5 columns]"
      ],
      "text/html": "<div>\n<style scoped>\n    .dataframe tbody tr th:only-of-type {\n        vertical-align: middle;\n    }\n\n    .dataframe tbody tr th {\n        vertical-align: top;\n    }\n\n    .dataframe thead th {\n        text-align: right;\n    }\n</style>\n<table border=\"1\" class=\"dataframe\">\n  <thead>\n    <tr style=\"text-align: right;\">\n      <th></th>\n      <th>sequence_read</th>\n      <th>rpm</th>\n      <th>start_linker</th>\n      <th>end_linker</th>\n      <th>length_linker</th>\n    </tr>\n  </thead>\n  <tbody>\n    <tr>\n      <th>0</th>\n      <td>QLYH</td>\n      <td>517013.126727</td>\n      <td>22</td>\n      <td>26</td>\n      <td>4</td>\n    </tr>\n    <tr>\n      <th>1</th>\n      <td>RLR</td>\n      <td>92253.438863</td>\n      <td>22</td>\n      <td>25</td>\n      <td>3</td>\n    </tr>\n    <tr>\n      <th>2</th>\n      <td>RLR</td>\n      <td>25353.794140</td>\n      <td>24</td>\n      <td>27</td>\n      <td>3</td>\n    </tr>\n    <tr>\n      <th>3</th>\n      <td>APDGA</td>\n      <td>22586.924891</td>\n      <td>22</td>\n      <td>27</td>\n      <td>5</td>\n    </tr>\n    <tr>\n      <th>4</th>\n      <td>RLR</td>\n      <td>15976.162357</td>\n      <td>20</td>\n      <td>23</td>\n      <td>3</td>\n    </tr>\n    <tr>\n      <th>...</th>\n      <td>...</td>\n      <td>...</td>\n      <td>...</td>\n      <td>...</td>\n      <td>...</td>\n    </tr>\n    <tr>\n      <th>98697</th>\n      <td>QMYH</td>\n      <td>0.611598</td>\n      <td>24</td>\n      <td>28</td>\n      <td>4</td>\n    </tr>\n    <tr>\n      <th>98698</th>\n      <td>RLPI</td>\n      <td>0.611598</td>\n      <td>24</td>\n      <td>28</td>\n      <td>4</td>\n    </tr>\n    <tr>\n      <th>98699</th>\n      <td>RLR</td>\n      <td>0.611598</td>\n      <td>24</td>\n      <td>27</td>\n      <td>3</td>\n    </tr>\n    <tr>\n      <th>98700</th>\n      <td>RLR</td>\n      <td>0.611598</td>\n      <td>24</td>\n      <td>27</td>\n      <td>3</td>\n    </tr>\n    <tr>\n      <th>98702</th>\n      <td>VRTE</td>\n      <td>0.611598</td>\n      <td>24</td>\n      <td>28</td>\n      <td>4</td>\n    </tr>\n  </tbody>\n</table>\n<p>66623 rows × 5 columns</p>\n</div>"
     },
     "metadata": {},
     "execution_count": 207
    }
   ],
   "source": [
    "def check_stop_codon(sequence):\n",
    "    for aa in sequence:\n",
    "        if aa == \"_\":\n",
    "            return (False)\n",
    "    return (sequence)\n",
    "\n",
    "df_read_integers['sequence_read']=df_read_integers.sequence_read.apply(check_stop_codon)\n",
    "df_read_integers = df_read_integers[df_read_integers.sequence_read != False]\n",
    "df_read_integers"
   ]
  },
  {
   "cell_type": "code",
   "execution_count": 208,
   "metadata": {},
   "outputs": [
    {
     "output_type": "stream",
     "name": "stdout",
     "text": [
      "sequence_read\nA        18\nAA        4\nAAAD      4\nAAAGA     1\nAADGA     6\n         ..\nYTKY     11\nYVPR      2\nYWGAL     1\nYWGPL     3\nYWTI      1\nLength: 2012, dtype: int64\n"
     ]
    }
   ],
   "source": [
    "print(df_read_integers.groupby('sequence_read').size())"
   ]
  },
  {
   "cell_type": "code",
   "execution_count": 209,
   "metadata": {},
   "outputs": [
    {
     "output_type": "execute_result",
     "data": {
      "text/plain": [
       "sequence_read\n",
       "A        20.794331\n",
       "AA        2.446392\n",
       "AAAD      4.281186\n",
       "AAAGA     0.611598\n",
       "AADGA     6.727578\n",
       "           ...    \n",
       "YTKY      6.727578\n",
       "YVPR      1.223196\n",
       "YWGAL     0.611598\n",
       "YWGPL     1.834794\n",
       "YWTI      0.611598\n",
       "Name: rpm, Length: 2012, dtype: float64"
      ]
     },
     "metadata": {},
     "execution_count": 209
    }
   ],
   "source": [
    "df_read_integers.groupby('sequence_read')['rpm'].apply(sum)\n",
    "df_frequency=df_read_integers.groupby('sequence_read')['rpm'].apply(sum)\n",
    "df_frequency"
   ]
  },
  {
   "cell_type": "code",
   "execution_count": 210,
   "metadata": {},
   "outputs": [],
   "source": [
    "with pd.ExcelWriter('Frequency_linkers_'+filename+'.xlsx') as writer:\n",
    "    df_frequency.to_excel(writer, sheet_name='percentage')"
   ]
  }
 ]
}