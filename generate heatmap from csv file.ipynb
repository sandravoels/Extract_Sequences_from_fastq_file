{
 "metadata": {
  "language_info": {
   "codemirror_mode": {
    "name": "ipython",
    "version": 3
   },
   "file_extension": ".py",
   "mimetype": "text/x-python",
   "name": "python",
   "nbconvert_exporter": "python",
   "pygments_lexer": "ipython3",
   "version": "3.8.3"
  },
  "orig_nbformat": 2,
  "kernelspec": {
   "name": "python383jvsc74a57bd0cc5f70855ac006f3de45a3cc3b9e7d8d53845e50458809cb162b0174266dec97",
   "display_name": "Python 3.8.3 64-bit ('base': conda)"
  }
 },
 "nbformat": 4,
 "nbformat_minor": 2,
 "cells": [
  {
   "cell_type": "code",
   "execution_count": 26,
   "metadata": {},
   "outputs": [],
   "source": [
    "import sys\n",
    "import seaborn as sns\n",
    "import numpy as np\n",
    "import pandas as pd\n",
    "import matplotlib.pyplot as plt"
   ]
  },
  {
   "cell_type": "code",
   "execution_count": 27,
   "metadata": {},
   "outputs": [
    {
     "output_type": "display_data",
     "data": {
      "text/plain": "               CVDIPGIAVC  CPPALAHRLPAC  CQMEERDPRC  CTAIYATNSPLTC  \\\nsample_name                                                          \nEthiopia_7a            21            55           8            636   \nEthiopia_7b            34            57          12            798   \nEthiopia_7c            20            63          13           1419   \nEthiopia_8a           272            34          10            237   \nEthiopia_8b           183            36           7            243   \n...                   ...           ...         ...            ...   \nSingapore_29b          90            81          74           1127   \nSingapore_29c          44            38          30           1750   \nSingapore_30a          90            65          15            137   \nSingapore_30b         126            75          12            134   \nSingapore_30c          47            62           7            139   \n\n               CHSSIWAPFVYC  NSTIPYNKFG  CGAPALSQWLC  REWAFAKMRPLS  MDRTWSFSKI  \nsample_name                                                                     \nEthiopia_7a              67          77           44           158          18  \nEthiopia_7b             106          77           44           104          13  \nEthiopia_7c              67          87           56           113          19  \nEthiopia_8a              63         126           32           104         212  \nEthiopia_8b              66         149           45           142         219  \n...                     ...         ...          ...           ...         ...  \nSingapore_29b            58        1222           49            80          32  \nSingapore_29c            36         579           36           164           9  \nSingapore_30a            79        6127           67           162          42  \nSingapore_30b           124        7573           95           198          44  \nSingapore_30c            35          87           63            49          35  \n\n[107 rows x 9 columns]",
      "text/html": "<div>\n<style scoped>\n    .dataframe tbody tr th:only-of-type {\n        vertical-align: middle;\n    }\n\n    .dataframe tbody tr th {\n        vertical-align: top;\n    }\n\n    .dataframe thead th {\n        text-align: right;\n    }\n</style>\n<table border=\"1\" class=\"dataframe\">\n  <thead>\n    <tr style=\"text-align: right;\">\n      <th></th>\n      <th>CVDIPGIAVC</th>\n      <th>CPPALAHRLPAC</th>\n      <th>CQMEERDPRC</th>\n      <th>CTAIYATNSPLTC</th>\n      <th>CHSSIWAPFVYC</th>\n      <th>NSTIPYNKFG</th>\n      <th>CGAPALSQWLC</th>\n      <th>REWAFAKMRPLS</th>\n      <th>MDRTWSFSKI</th>\n    </tr>\n    <tr>\n      <th>sample_name</th>\n      <th></th>\n      <th></th>\n      <th></th>\n      <th></th>\n      <th></th>\n      <th></th>\n      <th></th>\n      <th></th>\n      <th></th>\n    </tr>\n  </thead>\n  <tbody>\n    <tr>\n      <th>Ethiopia_7a</th>\n      <td>21</td>\n      <td>55</td>\n      <td>8</td>\n      <td>636</td>\n      <td>67</td>\n      <td>77</td>\n      <td>44</td>\n      <td>158</td>\n      <td>18</td>\n    </tr>\n    <tr>\n      <th>Ethiopia_7b</th>\n      <td>34</td>\n      <td>57</td>\n      <td>12</td>\n      <td>798</td>\n      <td>106</td>\n      <td>77</td>\n      <td>44</td>\n      <td>104</td>\n      <td>13</td>\n    </tr>\n    <tr>\n      <th>Ethiopia_7c</th>\n      <td>20</td>\n      <td>63</td>\n      <td>13</td>\n      <td>1419</td>\n      <td>67</td>\n      <td>87</td>\n      <td>56</td>\n      <td>113</td>\n      <td>19</td>\n    </tr>\n    <tr>\n      <th>Ethiopia_8a</th>\n      <td>272</td>\n      <td>34</td>\n      <td>10</td>\n      <td>237</td>\n      <td>63</td>\n      <td>126</td>\n      <td>32</td>\n      <td>104</td>\n      <td>212</td>\n    </tr>\n    <tr>\n      <th>Ethiopia_8b</th>\n      <td>183</td>\n      <td>36</td>\n      <td>7</td>\n      <td>243</td>\n      <td>66</td>\n      <td>149</td>\n      <td>45</td>\n      <td>142</td>\n      <td>219</td>\n    </tr>\n    <tr>\n      <th>...</th>\n      <td>...</td>\n      <td>...</td>\n      <td>...</td>\n      <td>...</td>\n      <td>...</td>\n      <td>...</td>\n      <td>...</td>\n      <td>...</td>\n      <td>...</td>\n    </tr>\n    <tr>\n      <th>Singapore_29b</th>\n      <td>90</td>\n      <td>81</td>\n      <td>74</td>\n      <td>1127</td>\n      <td>58</td>\n      <td>1222</td>\n      <td>49</td>\n      <td>80</td>\n      <td>32</td>\n    </tr>\n    <tr>\n      <th>Singapore_29c</th>\n      <td>44</td>\n      <td>38</td>\n      <td>30</td>\n      <td>1750</td>\n      <td>36</td>\n      <td>579</td>\n      <td>36</td>\n      <td>164</td>\n      <td>9</td>\n    </tr>\n    <tr>\n      <th>Singapore_30a</th>\n      <td>90</td>\n      <td>65</td>\n      <td>15</td>\n      <td>137</td>\n      <td>79</td>\n      <td>6127</td>\n      <td>67</td>\n      <td>162</td>\n      <td>42</td>\n    </tr>\n    <tr>\n      <th>Singapore_30b</th>\n      <td>126</td>\n      <td>75</td>\n      <td>12</td>\n      <td>134</td>\n      <td>124</td>\n      <td>7573</td>\n      <td>95</td>\n      <td>198</td>\n      <td>44</td>\n    </tr>\n    <tr>\n      <th>Singapore_30c</th>\n      <td>47</td>\n      <td>62</td>\n      <td>7</td>\n      <td>139</td>\n      <td>35</td>\n      <td>87</td>\n      <td>63</td>\n      <td>49</td>\n      <td>35</td>\n    </tr>\n  </tbody>\n</table>\n<p>107 rows × 9 columns</p>\n</div>"
     },
     "metadata": {}
    },
    {
     "output_type": "display_data",
     "data": {
      "text/plain": "               CVDIPGIAVC  CPPALAHRLPAC  CQMEERDPRC  CTAIYATNSPLTC  \\\nsample_name                                                          \nEthiopia_7a      1.342423      1.748188    0.954243       2.804139   \nEthiopia_7b      1.544068      1.763428    1.113943       2.902547   \nEthiopia_7c      1.322219      1.806180    1.146128       3.152288   \nEthiopia_8a      2.436163      1.544068    1.041393       2.376577   \nEthiopia_8b      2.264818      1.568202    0.903090       2.387390   \n...                   ...           ...         ...            ...   \nSingapore_29b    1.959041      1.913814    1.875061       3.052309   \nSingapore_29c    1.653213      1.591065    1.491362       3.243286   \nSingapore_30a    1.959041      1.819544    1.204120       2.139879   \nSingapore_30b    2.103804      1.880814    1.113943       2.130334   \nSingapore_30c    1.681241      1.799341    0.903090       2.146128   \n\n               CHSSIWAPFVYC  NSTIPYNKFG  CGAPALSQWLC  REWAFAKMRPLS  MDRTWSFSKI  \nsample_name                                                                     \nEthiopia_7a        1.832509    1.892095     1.653213      2.201397    1.278754  \nEthiopia_7b        2.029384    1.892095     1.653213      2.021189    1.146128  \nEthiopia_7c        1.832509    1.944483     1.755875      2.056905    1.301030  \nEthiopia_8a        1.806180    2.103804     1.518514      2.021189    2.328380  \nEthiopia_8b        1.826075    2.176091     1.662758      2.155336    2.342423  \n...                     ...         ...          ...           ...         ...  \nSingapore_29b      1.770852    3.087426     1.698970      1.908485    1.518514  \nSingapore_29c      1.568202    2.763428     1.568202      2.217484    1.000000  \nSingapore_30a      1.903090    3.787319     1.832509      2.212188    1.633468  \nSingapore_30b      2.096910    3.879325     1.982271      2.298853    1.653213  \nSingapore_30c      1.556303    1.944483     1.806180      1.698970    1.556303  \n\n[107 rows x 9 columns]",
      "text/html": "<div>\n<style scoped>\n    .dataframe tbody tr th:only-of-type {\n        vertical-align: middle;\n    }\n\n    .dataframe tbody tr th {\n        vertical-align: top;\n    }\n\n    .dataframe thead th {\n        text-align: right;\n    }\n</style>\n<table border=\"1\" class=\"dataframe\">\n  <thead>\n    <tr style=\"text-align: right;\">\n      <th></th>\n      <th>CVDIPGIAVC</th>\n      <th>CPPALAHRLPAC</th>\n      <th>CQMEERDPRC</th>\n      <th>CTAIYATNSPLTC</th>\n      <th>CHSSIWAPFVYC</th>\n      <th>NSTIPYNKFG</th>\n      <th>CGAPALSQWLC</th>\n      <th>REWAFAKMRPLS</th>\n      <th>MDRTWSFSKI</th>\n    </tr>\n    <tr>\n      <th>sample_name</th>\n      <th></th>\n      <th></th>\n      <th></th>\n      <th></th>\n      <th></th>\n      <th></th>\n      <th></th>\n      <th></th>\n      <th></th>\n    </tr>\n  </thead>\n  <tbody>\n    <tr>\n      <th>Ethiopia_7a</th>\n      <td>1.342423</td>\n      <td>1.748188</td>\n      <td>0.954243</td>\n      <td>2.804139</td>\n      <td>1.832509</td>\n      <td>1.892095</td>\n      <td>1.653213</td>\n      <td>2.201397</td>\n      <td>1.278754</td>\n    </tr>\n    <tr>\n      <th>Ethiopia_7b</th>\n      <td>1.544068</td>\n      <td>1.763428</td>\n      <td>1.113943</td>\n      <td>2.902547</td>\n      <td>2.029384</td>\n      <td>1.892095</td>\n      <td>1.653213</td>\n      <td>2.021189</td>\n      <td>1.146128</td>\n    </tr>\n    <tr>\n      <th>Ethiopia_7c</th>\n      <td>1.322219</td>\n      <td>1.806180</td>\n      <td>1.146128</td>\n      <td>3.152288</td>\n      <td>1.832509</td>\n      <td>1.944483</td>\n      <td>1.755875</td>\n      <td>2.056905</td>\n      <td>1.301030</td>\n    </tr>\n    <tr>\n      <th>Ethiopia_8a</th>\n      <td>2.436163</td>\n      <td>1.544068</td>\n      <td>1.041393</td>\n      <td>2.376577</td>\n      <td>1.806180</td>\n      <td>2.103804</td>\n      <td>1.518514</td>\n      <td>2.021189</td>\n      <td>2.328380</td>\n    </tr>\n    <tr>\n      <th>Ethiopia_8b</th>\n      <td>2.264818</td>\n      <td>1.568202</td>\n      <td>0.903090</td>\n      <td>2.387390</td>\n      <td>1.826075</td>\n      <td>2.176091</td>\n      <td>1.662758</td>\n      <td>2.155336</td>\n      <td>2.342423</td>\n    </tr>\n    <tr>\n      <th>...</th>\n      <td>...</td>\n      <td>...</td>\n      <td>...</td>\n      <td>...</td>\n      <td>...</td>\n      <td>...</td>\n      <td>...</td>\n      <td>...</td>\n      <td>...</td>\n    </tr>\n    <tr>\n      <th>Singapore_29b</th>\n      <td>1.959041</td>\n      <td>1.913814</td>\n      <td>1.875061</td>\n      <td>3.052309</td>\n      <td>1.770852</td>\n      <td>3.087426</td>\n      <td>1.698970</td>\n      <td>1.908485</td>\n      <td>1.518514</td>\n    </tr>\n    <tr>\n      <th>Singapore_29c</th>\n      <td>1.653213</td>\n      <td>1.591065</td>\n      <td>1.491362</td>\n      <td>3.243286</td>\n      <td>1.568202</td>\n      <td>2.763428</td>\n      <td>1.568202</td>\n      <td>2.217484</td>\n      <td>1.000000</td>\n    </tr>\n    <tr>\n      <th>Singapore_30a</th>\n      <td>1.959041</td>\n      <td>1.819544</td>\n      <td>1.204120</td>\n      <td>2.139879</td>\n      <td>1.903090</td>\n      <td>3.787319</td>\n      <td>1.832509</td>\n      <td>2.212188</td>\n      <td>1.633468</td>\n    </tr>\n    <tr>\n      <th>Singapore_30b</th>\n      <td>2.103804</td>\n      <td>1.880814</td>\n      <td>1.113943</td>\n      <td>2.130334</td>\n      <td>2.096910</td>\n      <td>3.879325</td>\n      <td>1.982271</td>\n      <td>2.298853</td>\n      <td>1.653213</td>\n    </tr>\n    <tr>\n      <th>Singapore_30c</th>\n      <td>1.681241</td>\n      <td>1.799341</td>\n      <td>0.903090</td>\n      <td>2.146128</td>\n      <td>1.556303</td>\n      <td>1.944483</td>\n      <td>1.806180</td>\n      <td>1.698970</td>\n      <td>1.556303</td>\n    </tr>\n  </tbody>\n</table>\n<p>107 rows × 9 columns</p>\n</div>"
     },
     "metadata": {}
    }
   ],
   "source": [
    "train_data = pd.read_csv (r'D:\\Dropbox\\Sandra Postdoc\\Experiments\\Sanofi\\WP01 Pannings\\Results\\New Run Similarity 0.7\\exp12_sim70\\Osorno\\Osorno_hits_model\\best_model\\Top_9_features.csv')\n",
    "\n",
    "train_data.set_index('sample_name', inplace=True)\n",
    "display(train_data)\n",
    "train_data_new=np.log10(train_data+1)\n",
    "display(train_data_new)\n"
   ]
  },
  {
   "cell_type": "code",
   "execution_count": 38,
   "metadata": {},
   "outputs": [
    {
     "output_type": "error",
     "ename": "AttributeError",
     "evalue": "'AxesSubplot' object has no property 'fontsize'",
     "traceback": [
      "\u001b[1;31m---------------------------------------------------------------------------\u001b[0m",
      "\u001b[1;31mAttributeError\u001b[0m                            Traceback (most recent call last)",
      "\u001b[1;32m<ipython-input-38-8449b4f73d9d>\u001b[0m in \u001b[0;36m<module>\u001b[1;34m\u001b[0m\n\u001b[0;32m      1\u001b[0m \u001b[0mcm\u001b[0m \u001b[1;33m=\u001b[0m \u001b[0msns\u001b[0m\u001b[1;33m.\u001b[0m\u001b[0mclustermap\u001b[0m\u001b[1;33m(\u001b[0m\u001b[0mtrain_data_new\u001b[0m\u001b[1;33m,\u001b[0m \u001b[0mcmap\u001b[0m\u001b[1;33m=\u001b[0m\u001b[1;34m\"Blues\"\u001b[0m\u001b[1;33m,\u001b[0m\u001b[0mfigsize\u001b[0m\u001b[1;33m=\u001b[0m\u001b[1;33m(\u001b[0m\u001b[1;36m20\u001b[0m\u001b[1;33m,\u001b[0m \u001b[1;36m30\u001b[0m\u001b[1;33m)\u001b[0m\u001b[1;33m,\u001b[0m \u001b[0mcol_cluster\u001b[0m\u001b[1;33m=\u001b[0m\u001b[1;32mFalse\u001b[0m\u001b[1;33m,\u001b[0m \u001b[0myticklabels\u001b[0m\u001b[1;33m=\u001b[0m\u001b[1;32mTrue\u001b[0m\u001b[1;33m)\u001b[0m\u001b[1;33m\u001b[0m\u001b[1;33m\u001b[0m\u001b[0m\n\u001b[1;32m----> 2\u001b[1;33m \u001b[0mplt\u001b[0m\u001b[1;33m.\u001b[0m\u001b[0msetp\u001b[0m\u001b[1;33m(\u001b[0m\u001b[0mcm\u001b[0m\u001b[1;33m.\u001b[0m\u001b[0max_heatmap\u001b[0m\u001b[1;33m,\u001b[0m \u001b[0mfontsize\u001b[0m\u001b[1;33m=\u001b[0m\u001b[1;36m10\u001b[0m\u001b[1;33m)\u001b[0m\u001b[1;33m\u001b[0m\u001b[1;33m\u001b[0m\u001b[0m\n\u001b[0m\u001b[0;32m      3\u001b[0m \u001b[1;31m#cm.ax_heatmap.set_title(f\"A heat-map of the significance of the top {number_of_features} discriminatory motifs\")\u001b[0m\u001b[1;33m\u001b[0m\u001b[1;33m\u001b[0m\u001b[1;33m\u001b[0m\u001b[0m\n",
      "\u001b[1;32mD:\\anaconda\\lib\\site-packages\\matplotlib\\pyplot.py\u001b[0m in \u001b[0;36msetp\u001b[1;34m(obj, *args, **kwargs)\u001b[0m\n\u001b[0;32m    361\u001b[0m \u001b[1;33m@\u001b[0m\u001b[0mdocstring\u001b[0m\u001b[1;33m.\u001b[0m\u001b[0mcopy\u001b[0m\u001b[1;33m(\u001b[0m\u001b[0m_setp\u001b[0m\u001b[1;33m)\u001b[0m\u001b[1;33m\u001b[0m\u001b[1;33m\u001b[0m\u001b[0m\n\u001b[0;32m    362\u001b[0m \u001b[1;32mdef\u001b[0m \u001b[0msetp\u001b[0m\u001b[1;33m(\u001b[0m\u001b[0mobj\u001b[0m\u001b[1;33m,\u001b[0m \u001b[1;33m*\u001b[0m\u001b[0margs\u001b[0m\u001b[1;33m,\u001b[0m \u001b[1;33m**\u001b[0m\u001b[0mkwargs\u001b[0m\u001b[1;33m)\u001b[0m\u001b[1;33m:\u001b[0m\u001b[1;33m\u001b[0m\u001b[1;33m\u001b[0m\u001b[0m\n\u001b[1;32m--> 363\u001b[1;33m     \u001b[1;32mreturn\u001b[0m \u001b[0m_setp\u001b[0m\u001b[1;33m(\u001b[0m\u001b[0mobj\u001b[0m\u001b[1;33m,\u001b[0m \u001b[1;33m*\u001b[0m\u001b[0margs\u001b[0m\u001b[1;33m,\u001b[0m \u001b[1;33m**\u001b[0m\u001b[0mkwargs\u001b[0m\u001b[1;33m)\u001b[0m\u001b[1;33m\u001b[0m\u001b[1;33m\u001b[0m\u001b[0m\n\u001b[0m\u001b[0;32m    364\u001b[0m \u001b[1;33m\u001b[0m\u001b[0m\n\u001b[0;32m    365\u001b[0m \u001b[1;33m\u001b[0m\u001b[0m\n",
      "\u001b[1;32mD:\\anaconda\\lib\\site-packages\\matplotlib\\artist.py\u001b[0m in \u001b[0;36msetp\u001b[1;34m(obj, *args, **kwargs)\u001b[0m\n\u001b[0;32m   1605\u001b[0m     \u001b[1;31m# put args into ordereddict to maintain order\u001b[0m\u001b[1;33m\u001b[0m\u001b[1;33m\u001b[0m\u001b[1;33m\u001b[0m\u001b[0m\n\u001b[0;32m   1606\u001b[0m     \u001b[0mfuncvals\u001b[0m \u001b[1;33m=\u001b[0m \u001b[0mOrderedDict\u001b[0m\u001b[1;33m(\u001b[0m\u001b[1;33m(\u001b[0m\u001b[0mk\u001b[0m\u001b[1;33m,\u001b[0m \u001b[0mv\u001b[0m\u001b[1;33m)\u001b[0m \u001b[1;32mfor\u001b[0m \u001b[0mk\u001b[0m\u001b[1;33m,\u001b[0m \u001b[0mv\u001b[0m \u001b[1;32min\u001b[0m \u001b[0mzip\u001b[0m\u001b[1;33m(\u001b[0m\u001b[0margs\u001b[0m\u001b[1;33m[\u001b[0m\u001b[1;33m:\u001b[0m\u001b[1;33m:\u001b[0m\u001b[1;36m2\u001b[0m\u001b[1;33m]\u001b[0m\u001b[1;33m,\u001b[0m \u001b[0margs\u001b[0m\u001b[1;33m[\u001b[0m\u001b[1;36m1\u001b[0m\u001b[1;33m:\u001b[0m\u001b[1;33m:\u001b[0m\u001b[1;36m2\u001b[0m\u001b[1;33m]\u001b[0m\u001b[1;33m)\u001b[0m\u001b[1;33m)\u001b[0m\u001b[1;33m\u001b[0m\u001b[1;33m\u001b[0m\u001b[0m\n\u001b[1;32m-> 1607\u001b[1;33m     \u001b[0mret\u001b[0m \u001b[1;33m=\u001b[0m \u001b[1;33m[\u001b[0m\u001b[0mo\u001b[0m\u001b[1;33m.\u001b[0m\u001b[0mupdate\u001b[0m\u001b[1;33m(\u001b[0m\u001b[0mfuncvals\u001b[0m\u001b[1;33m)\u001b[0m \u001b[1;32mfor\u001b[0m \u001b[0mo\u001b[0m \u001b[1;32min\u001b[0m \u001b[0mobjs\u001b[0m\u001b[1;33m]\u001b[0m \u001b[1;33m+\u001b[0m \u001b[1;33m[\u001b[0m\u001b[0mo\u001b[0m\u001b[1;33m.\u001b[0m\u001b[0mset\u001b[0m\u001b[1;33m(\u001b[0m\u001b[1;33m**\u001b[0m\u001b[0mkwargs\u001b[0m\u001b[1;33m)\u001b[0m \u001b[1;32mfor\u001b[0m \u001b[0mo\u001b[0m \u001b[1;32min\u001b[0m \u001b[0mobjs\u001b[0m\u001b[1;33m]\u001b[0m\u001b[1;33m\u001b[0m\u001b[1;33m\u001b[0m\u001b[0m\n\u001b[0m\u001b[0;32m   1608\u001b[0m     \u001b[1;32mreturn\u001b[0m \u001b[0mlist\u001b[0m\u001b[1;33m(\u001b[0m\u001b[0mcbook\u001b[0m\u001b[1;33m.\u001b[0m\u001b[0mflatten\u001b[0m\u001b[1;33m(\u001b[0m\u001b[0mret\u001b[0m\u001b[1;33m)\u001b[0m\u001b[1;33m)\u001b[0m\u001b[1;33m\u001b[0m\u001b[1;33m\u001b[0m\u001b[0m\n\u001b[0;32m   1609\u001b[0m \u001b[1;33m\u001b[0m\u001b[0m\n",
      "\u001b[1;32mD:\\anaconda\\lib\\site-packages\\matplotlib\\artist.py\u001b[0m in \u001b[0;36m<listcomp>\u001b[1;34m(.0)\u001b[0m\n\u001b[0;32m   1605\u001b[0m     \u001b[1;31m# put args into ordereddict to maintain order\u001b[0m\u001b[1;33m\u001b[0m\u001b[1;33m\u001b[0m\u001b[1;33m\u001b[0m\u001b[0m\n\u001b[0;32m   1606\u001b[0m     \u001b[0mfuncvals\u001b[0m \u001b[1;33m=\u001b[0m \u001b[0mOrderedDict\u001b[0m\u001b[1;33m(\u001b[0m\u001b[1;33m(\u001b[0m\u001b[0mk\u001b[0m\u001b[1;33m,\u001b[0m \u001b[0mv\u001b[0m\u001b[1;33m)\u001b[0m \u001b[1;32mfor\u001b[0m \u001b[0mk\u001b[0m\u001b[1;33m,\u001b[0m \u001b[0mv\u001b[0m \u001b[1;32min\u001b[0m \u001b[0mzip\u001b[0m\u001b[1;33m(\u001b[0m\u001b[0margs\u001b[0m\u001b[1;33m[\u001b[0m\u001b[1;33m:\u001b[0m\u001b[1;33m:\u001b[0m\u001b[1;36m2\u001b[0m\u001b[1;33m]\u001b[0m\u001b[1;33m,\u001b[0m \u001b[0margs\u001b[0m\u001b[1;33m[\u001b[0m\u001b[1;36m1\u001b[0m\u001b[1;33m:\u001b[0m\u001b[1;33m:\u001b[0m\u001b[1;36m2\u001b[0m\u001b[1;33m]\u001b[0m\u001b[1;33m)\u001b[0m\u001b[1;33m)\u001b[0m\u001b[1;33m\u001b[0m\u001b[1;33m\u001b[0m\u001b[0m\n\u001b[1;32m-> 1607\u001b[1;33m     \u001b[0mret\u001b[0m \u001b[1;33m=\u001b[0m \u001b[1;33m[\u001b[0m\u001b[0mo\u001b[0m\u001b[1;33m.\u001b[0m\u001b[0mupdate\u001b[0m\u001b[1;33m(\u001b[0m\u001b[0mfuncvals\u001b[0m\u001b[1;33m)\u001b[0m \u001b[1;32mfor\u001b[0m \u001b[0mo\u001b[0m \u001b[1;32min\u001b[0m \u001b[0mobjs\u001b[0m\u001b[1;33m]\u001b[0m \u001b[1;33m+\u001b[0m \u001b[1;33m[\u001b[0m\u001b[0mo\u001b[0m\u001b[1;33m.\u001b[0m\u001b[0mset\u001b[0m\u001b[1;33m(\u001b[0m\u001b[1;33m**\u001b[0m\u001b[0mkwargs\u001b[0m\u001b[1;33m)\u001b[0m \u001b[1;32mfor\u001b[0m \u001b[0mo\u001b[0m \u001b[1;32min\u001b[0m \u001b[0mobjs\u001b[0m\u001b[1;33m]\u001b[0m\u001b[1;33m\u001b[0m\u001b[1;33m\u001b[0m\u001b[0m\n\u001b[0m\u001b[0;32m   1608\u001b[0m     \u001b[1;32mreturn\u001b[0m \u001b[0mlist\u001b[0m\u001b[1;33m(\u001b[0m\u001b[0mcbook\u001b[0m\u001b[1;33m.\u001b[0m\u001b[0mflatten\u001b[0m\u001b[1;33m(\u001b[0m\u001b[0mret\u001b[0m\u001b[1;33m)\u001b[0m\u001b[1;33m)\u001b[0m\u001b[1;33m\u001b[0m\u001b[1;33m\u001b[0m\u001b[0m\n\u001b[0;32m   1609\u001b[0m \u001b[1;33m\u001b[0m\u001b[0m\n",
      "\u001b[1;32mD:\\anaconda\\lib\\site-packages\\matplotlib\\artist.py\u001b[0m in \u001b[0;36mset\u001b[1;34m(self, **kwargs)\u001b[0m\n\u001b[0;32m   1099\u001b[0m             sorted(kwargs.items(), reverse=True,\n\u001b[0;32m   1100\u001b[0m                    key=lambda x: (self._prop_order.get(x[0], 0), x[0])))\n\u001b[1;32m-> 1101\u001b[1;33m         \u001b[1;32mreturn\u001b[0m \u001b[0mself\u001b[0m\u001b[1;33m.\u001b[0m\u001b[0mupdate\u001b[0m\u001b[1;33m(\u001b[0m\u001b[0mprops\u001b[0m\u001b[1;33m)\u001b[0m\u001b[1;33m\u001b[0m\u001b[1;33m\u001b[0m\u001b[0m\n\u001b[0m\u001b[0;32m   1102\u001b[0m \u001b[1;33m\u001b[0m\u001b[0m\n\u001b[0;32m   1103\u001b[0m     \u001b[1;32mdef\u001b[0m \u001b[0mfindobj\u001b[0m\u001b[1;33m(\u001b[0m\u001b[0mself\u001b[0m\u001b[1;33m,\u001b[0m \u001b[0mmatch\u001b[0m\u001b[1;33m=\u001b[0m\u001b[1;32mNone\u001b[0m\u001b[1;33m,\u001b[0m \u001b[0minclude_self\u001b[0m\u001b[1;33m=\u001b[0m\u001b[1;32mTrue\u001b[0m\u001b[1;33m)\u001b[0m\u001b[1;33m:\u001b[0m\u001b[1;33m\u001b[0m\u001b[1;33m\u001b[0m\u001b[0m\n",
      "\u001b[1;32mD:\\anaconda\\lib\\site-packages\\matplotlib\\artist.py\u001b[0m in \u001b[0;36mupdate\u001b[1;34m(self, props)\u001b[0m\n\u001b[0;32m   1004\u001b[0m \u001b[1;33m\u001b[0m\u001b[0m\n\u001b[0;32m   1005\u001b[0m         \u001b[1;32mwith\u001b[0m \u001b[0mcbook\u001b[0m\u001b[1;33m.\u001b[0m\u001b[0m_setattr_cm\u001b[0m\u001b[1;33m(\u001b[0m\u001b[0mself\u001b[0m\u001b[1;33m,\u001b[0m \u001b[0meventson\u001b[0m\u001b[1;33m=\u001b[0m\u001b[1;32mFalse\u001b[0m\u001b[1;33m)\u001b[0m\u001b[1;33m:\u001b[0m\u001b[1;33m\u001b[0m\u001b[1;33m\u001b[0m\u001b[0m\n\u001b[1;32m-> 1006\u001b[1;33m             \u001b[0mret\u001b[0m \u001b[1;33m=\u001b[0m \u001b[1;33m[\u001b[0m\u001b[0m_update_property\u001b[0m\u001b[1;33m(\u001b[0m\u001b[0mself\u001b[0m\u001b[1;33m,\u001b[0m \u001b[0mk\u001b[0m\u001b[1;33m,\u001b[0m \u001b[0mv\u001b[0m\u001b[1;33m)\u001b[0m \u001b[1;32mfor\u001b[0m \u001b[0mk\u001b[0m\u001b[1;33m,\u001b[0m \u001b[0mv\u001b[0m \u001b[1;32min\u001b[0m \u001b[0mprops\u001b[0m\u001b[1;33m.\u001b[0m\u001b[0mitems\u001b[0m\u001b[1;33m(\u001b[0m\u001b[1;33m)\u001b[0m\u001b[1;33m]\u001b[0m\u001b[1;33m\u001b[0m\u001b[1;33m\u001b[0m\u001b[0m\n\u001b[0m\u001b[0;32m   1007\u001b[0m \u001b[1;33m\u001b[0m\u001b[0m\n\u001b[0;32m   1008\u001b[0m         \u001b[1;32mif\u001b[0m \u001b[0mlen\u001b[0m\u001b[1;33m(\u001b[0m\u001b[0mret\u001b[0m\u001b[1;33m)\u001b[0m\u001b[1;33m:\u001b[0m\u001b[1;33m\u001b[0m\u001b[1;33m\u001b[0m\u001b[0m\n",
      "\u001b[1;32mD:\\anaconda\\lib\\site-packages\\matplotlib\\artist.py\u001b[0m in \u001b[0;36m<listcomp>\u001b[1;34m(.0)\u001b[0m\n\u001b[0;32m   1004\u001b[0m \u001b[1;33m\u001b[0m\u001b[0m\n\u001b[0;32m   1005\u001b[0m         \u001b[1;32mwith\u001b[0m \u001b[0mcbook\u001b[0m\u001b[1;33m.\u001b[0m\u001b[0m_setattr_cm\u001b[0m\u001b[1;33m(\u001b[0m\u001b[0mself\u001b[0m\u001b[1;33m,\u001b[0m \u001b[0meventson\u001b[0m\u001b[1;33m=\u001b[0m\u001b[1;32mFalse\u001b[0m\u001b[1;33m)\u001b[0m\u001b[1;33m:\u001b[0m\u001b[1;33m\u001b[0m\u001b[1;33m\u001b[0m\u001b[0m\n\u001b[1;32m-> 1006\u001b[1;33m             \u001b[0mret\u001b[0m \u001b[1;33m=\u001b[0m \u001b[1;33m[\u001b[0m\u001b[0m_update_property\u001b[0m\u001b[1;33m(\u001b[0m\u001b[0mself\u001b[0m\u001b[1;33m,\u001b[0m \u001b[0mk\u001b[0m\u001b[1;33m,\u001b[0m \u001b[0mv\u001b[0m\u001b[1;33m)\u001b[0m \u001b[1;32mfor\u001b[0m \u001b[0mk\u001b[0m\u001b[1;33m,\u001b[0m \u001b[0mv\u001b[0m \u001b[1;32min\u001b[0m \u001b[0mprops\u001b[0m\u001b[1;33m.\u001b[0m\u001b[0mitems\u001b[0m\u001b[1;33m(\u001b[0m\u001b[1;33m)\u001b[0m\u001b[1;33m]\u001b[0m\u001b[1;33m\u001b[0m\u001b[1;33m\u001b[0m\u001b[0m\n\u001b[0m\u001b[0;32m   1007\u001b[0m \u001b[1;33m\u001b[0m\u001b[0m\n\u001b[0;32m   1008\u001b[0m         \u001b[1;32mif\u001b[0m \u001b[0mlen\u001b[0m\u001b[1;33m(\u001b[0m\u001b[0mret\u001b[0m\u001b[1;33m)\u001b[0m\u001b[1;33m:\u001b[0m\u001b[1;33m\u001b[0m\u001b[1;33m\u001b[0m\u001b[0m\n",
      "\u001b[1;32mD:\\anaconda\\lib\\site-packages\\matplotlib\\artist.py\u001b[0m in \u001b[0;36m_update_property\u001b[1;34m(self, k, v)\u001b[0m\n\u001b[0;32m    999\u001b[0m                 \u001b[0mfunc\u001b[0m \u001b[1;33m=\u001b[0m \u001b[0mgetattr\u001b[0m\u001b[1;33m(\u001b[0m\u001b[0mself\u001b[0m\u001b[1;33m,\u001b[0m \u001b[1;34m'set_'\u001b[0m \u001b[1;33m+\u001b[0m \u001b[0mk\u001b[0m\u001b[1;33m,\u001b[0m \u001b[1;32mNone\u001b[0m\u001b[1;33m)\u001b[0m\u001b[1;33m\u001b[0m\u001b[1;33m\u001b[0m\u001b[0m\n\u001b[0;32m   1000\u001b[0m                 \u001b[1;32mif\u001b[0m \u001b[1;32mnot\u001b[0m \u001b[0mcallable\u001b[0m\u001b[1;33m(\u001b[0m\u001b[0mfunc\u001b[0m\u001b[1;33m)\u001b[0m\u001b[1;33m:\u001b[0m\u001b[1;33m\u001b[0m\u001b[1;33m\u001b[0m\u001b[0m\n\u001b[1;32m-> 1001\u001b[1;33m                     raise AttributeError('{!r} object has no property {!r}'\n\u001b[0m\u001b[0;32m   1002\u001b[0m                                          .format(type(self).__name__, k))\n\u001b[0;32m   1003\u001b[0m                 \u001b[1;32mreturn\u001b[0m \u001b[0mfunc\u001b[0m\u001b[1;33m(\u001b[0m\u001b[0mv\u001b[0m\u001b[1;33m)\u001b[0m\u001b[1;33m\u001b[0m\u001b[1;33m\u001b[0m\u001b[0m\n",
      "\u001b[1;31mAttributeError\u001b[0m: 'AxesSubplot' object has no property 'fontsize'"
     ]
    }
   ],
   "source": [
    "cm = sns.clustermap(train_data_new, cmap=\"Blues\",figsize=(20, 30), col_cluster=False, yticklabels=True)\n",
    "plt.setp(cm.ax_heatmap, fontsize=10)\n",
    "#cm.ax_heatmap.set_title(f\"A heat-map of the significance of the top {number_of_features} discriminatory motifs\")"
   ]
  },
  {
   "cell_type": "code",
   "execution_count": null,
   "metadata": {},
   "outputs": [],
   "source": [
    "cm.ax_heatmap"
   ]
  },
  {
   "cell_type": "code",
   "execution_count": 29,
   "metadata": {},
   "outputs": [
    {
     "output_type": "execute_result",
     "data": {
      "text/plain": [
       "seaborn.matrix.ClusterGrid"
      ]
     },
     "metadata": {},
     "execution_count": 29
    }
   ],
   "source": [
    "type (cm)"
   ]
  },
  {
   "cell_type": "code",
   "execution_count": 30,
   "metadata": {},
   "outputs": [
    {
     "output_type": "error",
     "ename": "AttributeError",
     "evalue": "'ClusterGrid' object has no attribute 'dendrogram_column'",
     "traceback": [
      "\u001b[1;31m---------------------------------------------------------------------------\u001b[0m",
      "\u001b[1;31mAttributeError\u001b[0m                            Traceback (most recent call last)",
      "\u001b[1;32m<ipython-input-30-ef6b592d6c18>\u001b[0m in \u001b[0;36m<module>\u001b[1;34m\u001b[0m\n\u001b[1;32m----> 1\u001b[1;33m \u001b[0mprint\u001b[0m\u001b[1;33m(\u001b[0m\u001b[0mcm\u001b[0m\u001b[1;33m.\u001b[0m\u001b[0mdendrogram_column\u001b[0m\u001b[1;33m.\u001b[0m\u001b[0mreordered_ind\u001b[0m\u001b[1;33m)\u001b[0m\u001b[1;33m\u001b[0m\u001b[1;33m\u001b[0m\u001b[0m\n\u001b[0m",
      "\u001b[1;31mAttributeError\u001b[0m: 'ClusterGrid' object has no attribute 'dendrogram_column'"
     ]
    }
   ],
   "source": [
    "print(cm.dendrogram_column.reordered_ind)"
   ]
  }
 ]
}