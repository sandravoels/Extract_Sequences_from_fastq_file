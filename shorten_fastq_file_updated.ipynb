{
 "metadata": {
  "language_info": {
   "codemirror_mode": {
    "name": "ipython",
    "version": 3
   },
   "file_extension": ".py",
   "mimetype": "text/x-python",
   "name": "python",
   "nbconvert_exporter": "python",
   "pygments_lexer": "ipython3",
   "version": "3.8.3"
  },
  "orig_nbformat": 2,
  "kernelspec": {
   "name": "python3",
   "display_name": "Python 3.8.3 64-bit ('base': conda)"
  },
  "interpreter": {
   "hash": "cc5f70855ac006f3de45a3cc3b9e7d8d53845e50458809cb162b0174266dec97"
  }
 },
 "nbformat": 4,
 "nbformat_minor": 2,
 "cells": [
  {
   "cell_type": "code",
   "execution_count": null,
   "metadata": {},
   "outputs": [],
   "source": [
    "import os\n",
    "\n",
    "DIR = r'G:\\DeepPanningData\\EXP_DP_4' #the path of the data"
   ]
  },
  {
   "cell_type": "code",
   "execution_count": 3,
   "metadata": {},
   "outputs": [],
   "source": [
    "from Bio import SeqIO\n",
    "import gzip\n",
    "\n",
    "path_in = r'G:\\DeepPanningData\\EXP_DP_4\\EXP_4_040618_S1_L001_R1_001.fastq.gz'\n",
    "path_out = r'D:\\Dropbox\\Sandra_Postdoc\\Experiments\\MotifAI\\2021-06-03_Optimization_parameters\\input data\\EXP_DP_4_40M.fastq.gz'\n",
    "handle_in = gzip.open(path_in, \"rt\")\n",
    "handle_out = gzip.open(path_out, \"wt\")\n",
    "\n",
    "fq = SeqIO.parse(handle_in, \"fastq\")\n",
    "for i, read in enumerate(fq):\n",
    "    # really number of reads, not lines\n",
    "    if i<10000000:\n",
    "        handle_out.write(read.format(\"fastq\"))\n",
    "    else:\n",
    "        break\n",
    "\n",
    "handle_in.close()\n",
    "handle_out.close()"
   ]
  },
  {
   "cell_type": "code",
   "execution_count": 14,
   "metadata": {},
   "outputs": [],
   "source": [
    "handle_in.close()\n",
    "handle_out.close()"
   ]
  },
  {
   "cell_type": "code",
   "execution_count": 2,
   "metadata": {},
   "outputs": [],
   "source": [
    "with open(os.path.join(DIR,'EXP_12_Sandra_L1.fastq'), 'r') as f: # open the file to read 'with open'-> without closing\n",
    "    short_file = open('EXP_12_Sandra_L1_short80M.fastq', 'w') #open new file-handle. to write only 10M lines\n",
    "    for i, line in enumerate(f): #count the lines\n",
    "        if i<80000000:\n",
    "            short_file.write(line)\n",
    "        else:\n",
    "            break\n",
    "short_file.close() #the output it saved where the notebook is. move file to path"
   ]
  },
  {
   "cell_type": "code",
   "execution_count": 4,
   "metadata": {},
   "outputs": [],
   "source": [
    "import gzip\n",
    "text = open(os.path.join(DIR,'EXP_12_Sandra_L1_short80M.fastq'), 'r') #add to path, open the file to read\n",
    "content = text.read() # text convertion to string\n",
    "f = gzip.open('EXP_12_Sandra_L1_short80M.fastq.gz', 'wb') # open new file\n",
    "f.write(content.encode(\"ascii\")) # convertion to byte beacuse it zip  \n",
    "text.close()\n",
    "f.close()\n",
    "\n"
   ]
  },
  {
   "cell_type": "code",
   "execution_count": 7,
   "metadata": {},
   "outputs": [
    {
     "output_type": "error",
     "ename": "AttributeError",
     "evalue": "'_io.TextIOWrapper' object has no attribute 'encode'",
     "traceback": [
      "\u001b[1;31m---------------------------------------------------------------------------\u001b[0m",
      "\u001b[1;31mAttributeError\u001b[0m                            Traceback (most recent call last)",
      "\u001b[1;32m<ipython-input-7-b2a25d32d8ee>\u001b[0m in \u001b[0;36m<module>\u001b[1;34m\u001b[0m\n\u001b[0;32m      2\u001b[0m \u001b[0mf_in\u001b[0m \u001b[1;33m=\u001b[0m \u001b[0mopen\u001b[0m\u001b[1;33m(\u001b[0m\u001b[0mos\u001b[0m\u001b[1;33m.\u001b[0m\u001b[0mpath\u001b[0m\u001b[1;33m.\u001b[0m\u001b[0mjoin\u001b[0m\u001b[1;33m(\u001b[0m\u001b[0mDIR\u001b[0m\u001b[1;33m,\u001b[0m\u001b[1;34m'EXP_12_Sandra_L1_short80M.fastq'\u001b[0m\u001b[1;33m)\u001b[0m\u001b[1;33m,\u001b[0m \u001b[1;34m'r'\u001b[0m\u001b[1;33m)\u001b[0m \u001b[1;31m#add to path, open the file to read\u001b[0m\u001b[1;33m\u001b[0m\u001b[1;33m\u001b[0m\u001b[0m\n\u001b[0;32m      3\u001b[0m \u001b[0mf_out\u001b[0m \u001b[1;33m=\u001b[0m \u001b[0mgzip\u001b[0m\u001b[1;33m.\u001b[0m\u001b[0mopen\u001b[0m\u001b[1;33m(\u001b[0m\u001b[1;34m'EXP_12_Sandra_L1_short80M.fastq.gz'\u001b[0m\u001b[1;33m,\u001b[0m \u001b[1;34m'wb'\u001b[0m\u001b[1;33m)\u001b[0m \u001b[1;31m# open new file\u001b[0m\u001b[1;33m\u001b[0m\u001b[1;33m\u001b[0m\u001b[0m\n\u001b[1;32m----> 4\u001b[1;33m \u001b[0mf_out\u001b[0m\u001b[1;33m.\u001b[0m\u001b[0mwritelines\u001b[0m\u001b[1;33m(\u001b[0m\u001b[0mf_in\u001b[0m\u001b[1;33m.\u001b[0m\u001b[0mencode\u001b[0m\u001b[1;33m(\u001b[0m\u001b[1;34m\"ascii\"\u001b[0m\u001b[1;33m)\u001b[0m\u001b[1;33m)\u001b[0m\u001b[1;33m\u001b[0m\u001b[1;33m\u001b[0m\u001b[0m\n\u001b[0m\u001b[0;32m      5\u001b[0m \u001b[0mf_out\u001b[0m\u001b[1;33m.\u001b[0m\u001b[0mclose\u001b[0m\u001b[1;33m(\u001b[0m\u001b[1;33m)\u001b[0m\u001b[1;33m\u001b[0m\u001b[1;33m\u001b[0m\u001b[0m\n\u001b[0;32m      6\u001b[0m \u001b[0mf_in\u001b[0m\u001b[1;33m.\u001b[0m\u001b[0mclose\u001b[0m\u001b[1;33m(\u001b[0m\u001b[1;33m)\u001b[0m\u001b[1;33m\u001b[0m\u001b[1;33m\u001b[0m\u001b[0m\n",
      "\u001b[1;31mAttributeError\u001b[0m: '_io.TextIOWrapper' object has no attribute 'encode'"
     ]
    }
   ],
   "source": [
    "import gzip\n",
    "f_in = open(os.path.join(DIR,'EXP_12_Sandra_L1_short80M.fastq'), 'r') #add to path, open the file to read\n",
    "f_out = gzip.open('EXP_12_Sandra_L1_short80M.fastq.gz', 'wb') # open new file\n",
    "f_out.writelines(f_in.encode(\"ascii\"))\n",
    "f_out.close()\n",
    "f_in.close()\n"
   ]
  },
  {
   "cell_type": "code",
   "execution_count": 6,
   "metadata": {},
   "outputs": [],
   "source": [
    "f_out.close()\n",
    "f_in.close()"
   ]
  },
  {
   "cell_type": "code",
   "execution_count": null,
   "metadata": {},
   "outputs": [],
   "source": [
    "import gzip\n",
    "f_in = open('/home/joe/file.txt')\n",
    "f_out = gzip.open('/home/joe/file.txt.gz', 'wb')\n",
    "f_out.writelines(f_in)\n",
    "f_out.close()\n",
    "f_in.close()"
   ]
  }
 ]
}