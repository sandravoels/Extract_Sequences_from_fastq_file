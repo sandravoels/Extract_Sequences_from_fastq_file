{
 "metadata": {
  "language_info": {
   "codemirror_mode": {
    "name": "ipython",
    "version": 3
   },
   "file_extension": ".py",
   "mimetype": "text/x-python",
   "name": "python",
   "nbconvert_exporter": "python",
   "pygments_lexer": "ipython3",
   "version": "3.8.3"
  },
  "orig_nbformat": 2,
  "kernelspec": {
   "name": "python383jvsc74a57bd0cc5f70855ac006f3de45a3cc3b9e7d8d53845e50458809cb162b0174266dec97",
   "display_name": "Python 3.8.3 64-bit ('base': conda)"
  }
 },
 "nbformat": 4,
 "nbformat_minor": 2,
 "cells": [
  {
   "cell_type": "code",
   "execution_count": 8,
   "metadata": {},
   "outputs": [],
   "source": [
    "import os\n",
    "\n",
    "DIR = r'D:\\Dropbox\\Sandra Postdoc\\Experiments\\MotifAI\\Exercises with Tehila\\Input Data\\Old Dataset\\EXP_DP_9_S1_L001_R1_001.fastq' #the path of the data"
   ]
  },
  {
   "cell_type": "code",
   "execution_count": 9,
   "metadata": {},
   "outputs": [],
   "source": [
    "with open(os.path.join(DIR,'EXP_DP_9_S1_L001_R1_001.fastq'), 'r') as f: # open the file to read 'with open'-> without closing\n",
    "    short_file = open('EXP_DP_9_S1_L001_R1_001.short.fastq', 'w') #open new file-handle. to write only 10M lines\n",
    "    for i, line in enumerate(f): #count the lines\n",
    "        if i<10000000:\n",
    "            short_file.write(line)\n",
    "        else:\n",
    "            break\n",
    "short_file.close() #the output it saved where the notebook is. move file to path"
   ]
  },
  {
   "cell_type": "code",
   "execution_count": 11,
   "metadata": {},
   "outputs": [],
   "source": [
    "import gzip\n",
    "text = open(os.path.join(DIR,'EXP_DP_9_S1_L001_R1_001.short.fastq'), 'r') #add to path, open the file to read\n",
    "content = text.read() # text convertion to string\n",
    "f = gzip.open('EXP_DP_9_S1_L001_R1_001.short.fastq.gz', 'wb') # open new file\n",
    "f.write(content.encode(\"ascii\")) # convertion to byte beacuse it zip  \n",
    "text.close()\n",
    "f.close()\n",
    "\n",
    "\n"
   ]
  }
 ]
}