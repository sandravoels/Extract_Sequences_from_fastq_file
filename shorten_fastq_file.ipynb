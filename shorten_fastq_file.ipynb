{
 "metadata": {
  "language_info": {
   "codemirror_mode": {
    "name": "ipython",
    "version": 3
   },
   "file_extension": ".py",
   "mimetype": "text/x-python",
   "name": "python",
   "nbconvert_exporter": "python",
   "pygments_lexer": "ipython3",
   "version": "3.8.3"
  },
  "orig_nbformat": 2,
  "kernelspec": {
   "name": "python383jvsc74a57bd0cc5f70855ac006f3de45a3cc3b9e7d8d53845e50458809cb162b0174266dec97",
   "display_name": "Python 3.8.3 64-bit ('base': conda)"
  }
 },
 "nbformat": 4,
 "nbformat_minor": 2,
 "cells": [
  {
   "cell_type": "code",
   "execution_count": 3,
   "metadata": {},
   "outputs": [],
   "source": [
    "import os\n",
    "\n",
    "DIR = r'D:\\Dropbox\\Sandra Postdoc\\Experiments\\MotifAI\\Exercises with Tehila\\Input Data\\New Dataset'"
   ]
  },
  {
   "cell_type": "code",
   "execution_count": 4,
   "metadata": {},
   "outputs": [],
   "source": [
    "\n",
    "\n",
    "with open(os.path.join(DIR,'EXP_12_Sandra_L1.fastq'), 'r') as f: \n",
    "    short_file = open('EXP_12_Sandra_L1_short.fastq', 'w')\n",
    "    for i, line in enumerate(f):\n",
    "        if i<10000000:\n",
    "            short_file.write(line)\n",
    "        else:\n",
    "            break\n",
    "short_file.close()"
   ]
  },
  {
   "cell_type": "code",
   "execution_count": 10,
   "metadata": {},
   "outputs": [],
   "source": [
    "import gzip\n",
    "text = open(os.path.join(DIR,'EXP_12_Sandra_L1_short.fastq'), 'r')\n",
    "content = text.read()\n",
    "f = gzip.open('compressed_file.fastq.gz', 'wb')\n",
    "f.write(content.encode(\"utf-8\"))\n",
    "f.close()\n"
   ]
  },
  {
   "cell_type": "code",
   "execution_count": 13,
   "metadata": {},
   "outputs": [],
   "source": [
    "text.close()\n",
    "f.close()"
   ]
  }
 ]
}