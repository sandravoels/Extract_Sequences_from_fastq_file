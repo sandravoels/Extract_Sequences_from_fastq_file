{
 "cells": [
  {
   "cell_type": "code",
   "execution_count": 2,
   "metadata": {},
   "outputs": [],
   "source": [
    "import os\n",
    "import pandas as pd"
   ]
  },
  {
   "cell_type": "code",
   "execution_count": 3,
   "metadata": {},
   "outputs": [],
   "source": [
    "# add path folder in which is the excel file with table of sample name and motifs\n",
    "os.chdir(r'D:\\Dropbox\\Sandra Postdoc\\Experiments\\MotifAI\\Exercises with Tehila\\Output Data\\Comparison Top Motifs')"
   ]
  },
  {
   "cell_type": "code",
   "execution_count": 5,
   "metadata": {},
   "outputs": [
    {
     "output_type": "execute_result",
     "data": {
      "text/plain": [
       "            Sample           Motif\n",
       "0     New_Ethiopia  CLVEVQATQMPFFC\n",
       "1     New_Ethiopia      PSFTPFIPYS\n",
       "2     New_Ethiopia      CLADPWLSDC\n",
       "3     New_Ethiopia      CKPPGDITSC\n",
       "4     New_Ethiopia    PIPSPQGGWLLS\n",
       "...            ...             ...\n",
       "1428    Old_Osorno       SCPNAPSVC\n",
       "1429    Old_Osorno      ARARDLARLR\n",
       "1430    Old_Osorno     PLATVPSELSS\n",
       "1431    Old_Osorno     SRLWELAQLDR\n",
       "1432    Old_Osorno    CEPFSASLPSFP\n",
       "\n",
       "[1433 rows x 2 columns]"
      ],
      "text/html": "<div>\n<style scoped>\n    .dataframe tbody tr th:only-of-type {\n        vertical-align: middle;\n    }\n\n    .dataframe tbody tr th {\n        vertical-align: top;\n    }\n\n    .dataframe thead th {\n        text-align: right;\n    }\n</style>\n<table border=\"1\" class=\"dataframe\">\n  <thead>\n    <tr style=\"text-align: right;\">\n      <th></th>\n      <th>Sample</th>\n      <th>Motif</th>\n    </tr>\n  </thead>\n  <tbody>\n    <tr>\n      <th>0</th>\n      <td>New_Ethiopia</td>\n      <td>CLVEVQATQMPFFC</td>\n    </tr>\n    <tr>\n      <th>1</th>\n      <td>New_Ethiopia</td>\n      <td>PSFTPFIPYS</td>\n    </tr>\n    <tr>\n      <th>2</th>\n      <td>New_Ethiopia</td>\n      <td>CLADPWLSDC</td>\n    </tr>\n    <tr>\n      <th>3</th>\n      <td>New_Ethiopia</td>\n      <td>CKPPGDITSC</td>\n    </tr>\n    <tr>\n      <th>4</th>\n      <td>New_Ethiopia</td>\n      <td>PIPSPQGGWLLS</td>\n    </tr>\n    <tr>\n      <th>...</th>\n      <td>...</td>\n      <td>...</td>\n    </tr>\n    <tr>\n      <th>1428</th>\n      <td>Old_Osorno</td>\n      <td>SCPNAPSVC</td>\n    </tr>\n    <tr>\n      <th>1429</th>\n      <td>Old_Osorno</td>\n      <td>ARARDLARLR</td>\n    </tr>\n    <tr>\n      <th>1430</th>\n      <td>Old_Osorno</td>\n      <td>PLATVPSELSS</td>\n    </tr>\n    <tr>\n      <th>1431</th>\n      <td>Old_Osorno</td>\n      <td>SRLWELAQLDR</td>\n    </tr>\n    <tr>\n      <th>1432</th>\n      <td>Old_Osorno</td>\n      <td>CEPFSASLPSFP</td>\n    </tr>\n  </tbody>\n</table>\n<p>1433 rows × 2 columns</p>\n</div>"
     },
     "metadata": {},
     "execution_count": 5
    }
   ],
   "source": [
    "#open excel file with pd.read_excel()\n",
    "df= pd.read_excel('LIst of top motifs new and old dataset.xlsx')\n",
    "df"
   ]
  },
  {
   "cell_type": "code",
   "execution_count": 16,
   "metadata": {},
   "outputs": [
    {
     "output_type": "execute_result",
     "data": {
      "text/plain": [
       "CLVEVQATQMPFFC    3\n",
       "LRELWYSDLMSW      2\n",
       "ESDWEAVTVWTP      2\n",
       "WREVILQRDS        2\n",
       "KVPVDRMGNSRP      2\n",
       "                 ..\n",
       "CDLTVPFLISA       1\n",
       "CGEWLIADSPVR      1\n",
       "CTNDPWMCAC        1\n",
       "CKASLLDRASYMKC    1\n",
       "CLLSSRSDKCA       1\n",
       "Name: Motif, Length: 1425, dtype: int64"
      ]
     },
     "metadata": {},
     "execution_count": 16
    }
   ],
   "source": [
    "df['Motif'].value_counts()"
   ]
  },
  {
   "cell_type": "code",
   "execution_count": 25,
   "metadata": {
    "tags": []
   },
   "outputs": [
    {
     "output_type": "execute_result",
     "data": {
      "text/plain": [
       "           Sample           Motif\n",
       "0    New_Ethiopia  CLVEVQATQMPFFC\n",
       "412    New_Osorno  CLVEVQATQMPFFC\n",
       "838  Old_Ethiopia  CLVEVQATQMPFFC"
      ],
      "text/html": "<div>\n<style scoped>\n    .dataframe tbody tr th:only-of-type {\n        vertical-align: middle;\n    }\n\n    .dataframe tbody tr th {\n        vertical-align: top;\n    }\n\n    .dataframe thead th {\n        text-align: right;\n    }\n</style>\n<table border=\"1\" class=\"dataframe\">\n  <thead>\n    <tr style=\"text-align: right;\">\n      <th></th>\n      <th>Sample</th>\n      <th>Motif</th>\n    </tr>\n  </thead>\n  <tbody>\n    <tr>\n      <th>0</th>\n      <td>New_Ethiopia</td>\n      <td>CLVEVQATQMPFFC</td>\n    </tr>\n    <tr>\n      <th>412</th>\n      <td>New_Osorno</td>\n      <td>CLVEVQATQMPFFC</td>\n    </tr>\n    <tr>\n      <th>838</th>\n      <td>Old_Ethiopia</td>\n      <td>CLVEVQATQMPFFC</td>\n    </tr>\n  </tbody>\n</table>\n</div>"
     },
     "metadata": {},
     "execution_count": 25
    }
   ],
   "source": [
    "df.groupby('Motif').get_group('CLVEVQATQMPFFC')"
   ]
  },
  {
   "cell_type": "code",
   "execution_count": 26,
   "metadata": {
    "tags": []
   },
   "outputs": [],
   "source": [
    "grouped = df.groupby('Motif')['Sample']"
   ]
  },
  {
   "cell_type": "code",
   "execution_count": 28,
   "metadata": {},
   "outputs": [
    {
     "output_type": "stream",
     "name": "stdout",
     "text": [
      "1425\n1425\n1425\n"
     ]
    }
   ],
   "source": [
    "list_motif=[]\n",
    "list_count=[]\n",
    "list_members=[]\n",
    "\n",
    "for name, group in grouped:\n",
    "    list_motif.append(name)\n",
    "    list_count.append(group.count())\n",
    "    list_members.append(group)\n",
    "    \n",
    "print(len(list_motif))\n",
    "print(len(list_count))\n",
    "print(len(list_members))\n",
    "\n"
   ]
  },
  {
   "cell_type": "code",
   "execution_count": 29,
   "metadata": {},
   "outputs": [
    {
     "output_type": "execute_result",
     "data": {
      "text/plain": [
       "             Motif  Count                                          Members\n",
       "0     AAAPLHLEAPPL      1   1387    Old_Osorno\n",
       "Name: Sample, dtype: object\n",
       "1       AACLAMSGVC      1  831    Old_Ethiopia\n",
       "Name: Sample, dtype: object\n",
       "2       AADLPNLSMY      1    752    New_Osorno\n",
       "Name: Sample, dtype: object\n",
       "3       AAHPYSTRLQ      1    744    New_Osorno\n",
       "Name: Sample, dtype: object\n",
       "4      AAMPHRTGSQW      1   1384    Old_Osorno\n",
       "Name: Sample, dtype: object\n",
       "...            ...    ...                                              ...\n",
       "1420    YTYAEREKLS      1   13    New_Ethiopia\n",
       "Name: Sample, dtype: object\n",
       "1421    YVDANDIIRS      1   59    New_Ethiopia\n",
       "Name: Sample, dtype: object\n",
       "1422   YVGTLEKPRLS      1  348    New_Ethiopia\n",
       "Name: Sample, dtype: object\n",
       "1423   YVSNSNVGSTL      1  915    Old_Ethiopia\n",
       "Name: Sample, dtype: object\n",
       "1424    YWADPGAVEN      1   1201    Old_Osorno\n",
       "Name: Sample, dtype: object\n",
       "\n",
       "[1425 rows x 3 columns]"
      ],
      "text/html": "<div>\n<style scoped>\n    .dataframe tbody tr th:only-of-type {\n        vertical-align: middle;\n    }\n\n    .dataframe tbody tr th {\n        vertical-align: top;\n    }\n\n    .dataframe thead th {\n        text-align: right;\n    }\n</style>\n<table border=\"1\" class=\"dataframe\">\n  <thead>\n    <tr style=\"text-align: right;\">\n      <th></th>\n      <th>Motif</th>\n      <th>Count</th>\n      <th>Members</th>\n    </tr>\n  </thead>\n  <tbody>\n    <tr>\n      <th>0</th>\n      <td>AAAPLHLEAPPL</td>\n      <td>1</td>\n      <td>1387    Old_Osorno\nName: Sample, dtype: object</td>\n    </tr>\n    <tr>\n      <th>1</th>\n      <td>AACLAMSGVC</td>\n      <td>1</td>\n      <td>831    Old_Ethiopia\nName: Sample, dtype: object</td>\n    </tr>\n    <tr>\n      <th>2</th>\n      <td>AADLPNLSMY</td>\n      <td>1</td>\n      <td>752    New_Osorno\nName: Sample, dtype: object</td>\n    </tr>\n    <tr>\n      <th>3</th>\n      <td>AAHPYSTRLQ</td>\n      <td>1</td>\n      <td>744    New_Osorno\nName: Sample, dtype: object</td>\n    </tr>\n    <tr>\n      <th>4</th>\n      <td>AAMPHRTGSQW</td>\n      <td>1</td>\n      <td>1384    Old_Osorno\nName: Sample, dtype: object</td>\n    </tr>\n    <tr>\n      <th>...</th>\n      <td>...</td>\n      <td>...</td>\n      <td>...</td>\n    </tr>\n    <tr>\n      <th>1420</th>\n      <td>YTYAEREKLS</td>\n      <td>1</td>\n      <td>13    New_Ethiopia\nName: Sample, dtype: object</td>\n    </tr>\n    <tr>\n      <th>1421</th>\n      <td>YVDANDIIRS</td>\n      <td>1</td>\n      <td>59    New_Ethiopia\nName: Sample, dtype: object</td>\n    </tr>\n    <tr>\n      <th>1422</th>\n      <td>YVGTLEKPRLS</td>\n      <td>1</td>\n      <td>348    New_Ethiopia\nName: Sample, dtype: object</td>\n    </tr>\n    <tr>\n      <th>1423</th>\n      <td>YVSNSNVGSTL</td>\n      <td>1</td>\n      <td>915    Old_Ethiopia\nName: Sample, dtype: object</td>\n    </tr>\n    <tr>\n      <th>1424</th>\n      <td>YWADPGAVEN</td>\n      <td>1</td>\n      <td>1201    Old_Osorno\nName: Sample, dtype: object</td>\n    </tr>\n  </tbody>\n</table>\n<p>1425 rows × 3 columns</p>\n</div>"
     },
     "metadata": {},
     "execution_count": 29
    }
   ],
   "source": [
    "df = pd.DataFrame(list(zip(list_motif, list_count,list_members)),\n",
    "               columns =['Motif', 'Count', 'Members'])\n",
    "df"
   ]
  },
  {
   "cell_type": "code",
   "execution_count": 30,
   "metadata": {},
   "outputs": [],
   "source": []
  },
  {
   "cell_type": "code",
   "execution_count": 33,
   "metadata": {},
   "outputs": [
    {
     "output_type": "execute_result",
     "data": {
      "text/plain": [
       "             Motif  Count                                          Members  \\\n",
       "0     AAAPLHLEAPPL      1   1387    Old_Osorno\n",
       "Name: Sample, dtype: object   \n",
       "1       AACLAMSGVC      1  831    Old_Ethiopia\n",
       "Name: Sample, dtype: object   \n",
       "2       AADLPNLSMY      1    752    New_Osorno\n",
       "Name: Sample, dtype: object   \n",
       "3       AAHPYSTRLQ      1    744    New_Osorno\n",
       "Name: Sample, dtype: object   \n",
       "4      AAMPHRTGSQW      1   1384    Old_Osorno\n",
       "Name: Sample, dtype: object   \n",
       "...            ...    ...                                              ...   \n",
       "1420    YTYAEREKLS      1   13    New_Ethiopia\n",
       "Name: Sample, dtype: object   \n",
       "1421    YVDANDIIRS      1   59    New_Ethiopia\n",
       "Name: Sample, dtype: object   \n",
       "1422   YVGTLEKPRLS      1  348    New_Ethiopia\n",
       "Name: Sample, dtype: object   \n",
       "1423   YVSNSNVGSTL      1  915    Old_Ethiopia\n",
       "Name: Sample, dtype: object   \n",
       "1424    YWADPGAVEN      1   1201    Old_Osorno\n",
       "Name: Sample, dtype: object   \n",
       "\n",
       "      new  old  \n",
       "0       0    1  \n",
       "1       0    1  \n",
       "2       1    0  \n",
       "3       1    0  \n",
       "4       0    1  \n",
       "...   ...  ...  \n",
       "1420    1    0  \n",
       "1421    1    0  \n",
       "1422    1    0  \n",
       "1423    0    1  \n",
       "1424    0    1  \n",
       "\n",
       "[1425 rows x 5 columns]"
      ],
      "text/html": "<div>\n<style scoped>\n    .dataframe tbody tr th:only-of-type {\n        vertical-align: middle;\n    }\n\n    .dataframe tbody tr th {\n        vertical-align: top;\n    }\n\n    .dataframe thead th {\n        text-align: right;\n    }\n</style>\n<table border=\"1\" class=\"dataframe\">\n  <thead>\n    <tr style=\"text-align: right;\">\n      <th></th>\n      <th>Motif</th>\n      <th>Count</th>\n      <th>Members</th>\n      <th>new</th>\n      <th>old</th>\n    </tr>\n  </thead>\n  <tbody>\n    <tr>\n      <th>0</th>\n      <td>AAAPLHLEAPPL</td>\n      <td>1</td>\n      <td>1387    Old_Osorno\nName: Sample, dtype: object</td>\n      <td>0</td>\n      <td>1</td>\n    </tr>\n    <tr>\n      <th>1</th>\n      <td>AACLAMSGVC</td>\n      <td>1</td>\n      <td>831    Old_Ethiopia\nName: Sample, dtype: object</td>\n      <td>0</td>\n      <td>1</td>\n    </tr>\n    <tr>\n      <th>2</th>\n      <td>AADLPNLSMY</td>\n      <td>1</td>\n      <td>752    New_Osorno\nName: Sample, dtype: object</td>\n      <td>1</td>\n      <td>0</td>\n    </tr>\n    <tr>\n      <th>3</th>\n      <td>AAHPYSTRLQ</td>\n      <td>1</td>\n      <td>744    New_Osorno\nName: Sample, dtype: object</td>\n      <td>1</td>\n      <td>0</td>\n    </tr>\n    <tr>\n      <th>4</th>\n      <td>AAMPHRTGSQW</td>\n      <td>1</td>\n      <td>1384    Old_Osorno\nName: Sample, dtype: object</td>\n      <td>0</td>\n      <td>1</td>\n    </tr>\n    <tr>\n      <th>...</th>\n      <td>...</td>\n      <td>...</td>\n      <td>...</td>\n      <td>...</td>\n      <td>...</td>\n    </tr>\n    <tr>\n      <th>1420</th>\n      <td>YTYAEREKLS</td>\n      <td>1</td>\n      <td>13    New_Ethiopia\nName: Sample, dtype: object</td>\n      <td>1</td>\n      <td>0</td>\n    </tr>\n    <tr>\n      <th>1421</th>\n      <td>YVDANDIIRS</td>\n      <td>1</td>\n      <td>59    New_Ethiopia\nName: Sample, dtype: object</td>\n      <td>1</td>\n      <td>0</td>\n    </tr>\n    <tr>\n      <th>1422</th>\n      <td>YVGTLEKPRLS</td>\n      <td>1</td>\n      <td>348    New_Ethiopia\nName: Sample, dtype: object</td>\n      <td>1</td>\n      <td>0</td>\n    </tr>\n    <tr>\n      <th>1423</th>\n      <td>YVSNSNVGSTL</td>\n      <td>1</td>\n      <td>915    Old_Ethiopia\nName: Sample, dtype: object</td>\n      <td>0</td>\n      <td>1</td>\n    </tr>\n    <tr>\n      <th>1424</th>\n      <td>YWADPGAVEN</td>\n      <td>1</td>\n      <td>1201    Old_Osorno\nName: Sample, dtype: object</td>\n      <td>0</td>\n      <td>1</td>\n    </tr>\n  </tbody>\n</table>\n<p>1425 rows × 5 columns</p>\n</div>"
     },
     "metadata": {},
     "execution_count": 33
    }
   ],
   "source": [
    "def check_old(groups):\n",
    "    count_old=0\n",
    "    for group in groups:\n",
    "        if 'Old' in group:\n",
    "            count_old+=1\n",
    "    return count_old\n",
    "\n",
    "def check_new(groups):\n",
    "    count_new=0\n",
    "    for group in groups:\n",
    "        if 'New' in group:\n",
    "            count_new+=1\n",
    "    return count_new   \n",
    "\n",
    "# def check_group1(groups):\n",
    "#     count_group1=0\n",
    "#     for group in groups:\n",
    "#         if 'Group1' in group:\n",
    "#             count_group1+=1\n",
    "#     return count_group1\n",
    "\n",
    "# def check_group2(groups):\n",
    "#     count_group2=0\n",
    "#     for group in groups:\n",
    "#         if 'Group2' in group:\n",
    "#             count_group2+=1\n",
    "#     return count_group2\n",
    "\n",
    "# def check_group3(groups):\n",
    "#     count_group3=0\n",
    "#     for group in groups:\n",
    "#         if 'Group3' in group:\n",
    "#             count_group3+=1\n",
    "#     return count_group3\n",
    "        \n",
    "        \n",
    "df['new'] = df['Members'].apply(check_new) \n",
    "df['old'] = df['Members'].apply(check_old)\n",
    "#df['group3'] = df['Members'].apply(check_group3)\n",
    "\n",
    "df\n",
    "        "
   ]
  },
  {
   "cell_type": "code",
   "execution_count": 34,
   "metadata": {},
   "outputs": [],
   "source": [
    "df.to_excel(\"D:\\Dropbox\\Sandra Postdoc\\Experiments\\MotifAI\\Exercises with Tehila\\Output Data\\Comparison Top Motifs\\motifs_counted.xlsx\", sheet_name='Sheet_name_1')  "
   ]
  }
 ],
 "metadata": {
  "kernelspec": {
   "name": "python383jvsc74a57bd0cc5f70855ac006f3de45a3cc3b9e7d8d53845e50458809cb162b0174266dec97",
   "display_name": "Python 3.8.3 64-bit ('base': conda)"
  },
  "language_info": {
   "codemirror_mode": {
    "name": "ipython",
    "version": 3
   },
   "file_extension": ".py",
   "mimetype": "text/x-python",
   "name": "python",
   "nbconvert_exporter": "python",
   "pygments_lexer": "ipython3",
   "version": "3.8.3"
  }
 },
 "nbformat": 4,
 "nbformat_minor": 2
}